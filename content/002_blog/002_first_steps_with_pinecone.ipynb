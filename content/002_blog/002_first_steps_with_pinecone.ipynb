{
 "cells": [
  {
   "cell_type": "markdown",
   "metadata": {},
   "source": [
    "# First steps with Pinecone DB"
   ]
  },
  {
   "cell_type": "markdown",
   "metadata": {},
   "source": [
    "This hands-on tutorial shows you how to load data into Pinecone DB, and how to search across the data using vector semantic search. \n",
    "\n",
    "We'll cover it in 3 parts:\n",
    "\n",
    "1. Getting setup\n",
    "2. Putting data in Pinecone DB\n",
    "3. Searching Pinecone\n",
    "\n",
    "### No LLMs here\n",
    "You may be surprised to know that LLMs (large language models) like GPT3.5, GPT4, Llama2, etc. are NOT used in any part of this tutorial. Vector search all the way! \n",
    "\n",
    "### What is Pinecone DB?\n",
    "Pinecone DB (https://www.pinecone.io/) is a powerful, fully-managed [vector database](https://www.pinecone.io/learn/vector-database/) that provides long-term memory and semantic search for today's modern apps.\n",
    "\n",
    "### Tutorial use case\n",
    "Have you ever struggled to remember the name of a movie? *\"It's about this guy who gets stuck on Mars or something?\"*\n",
    "\n",
    "Well, we're going to build an app that can help you remember. We want to use whatever details you can remember about the movie to search movie summaries, and hopefully find a match! Let's call our app **\"Total Movie Recall\"**. \n",
    "\n",
    "We'll be using the [IMDB Top 1000 Movies Dataset](https://www.kaggle.com/datasets/harshitshankhdhar/imdb-dataset-of-top-1000-movies-and-tv-shows) from Kaggle for this tutorial. (*By the way, how is [Total Recall](https://www.imdb.com/title/tt0100802/) not in this list!?* 🤨)\n",
    "\n",
    "<figure align=\"middle\">\n",
    "  <img src=\"./img/01-total-recall-app.png\" width=\"800\"/>\n",
    "  <figcaption>Fig. 1 - Total Movie Recall app</figcaption>\n",
    "</figure>\n",
    "\n",
    "> **Note**:\n",
    ">\n",
    "> This is just a mock user interface for this app. In this tutorial we're going to be focused on the back-end, not the front-end.\n",
    "\n",
    "Let's go!"
   ]
  },
  {
   "cell_type": "markdown",
   "metadata": {},
   "source": [
    "## 1. Getting setup\n",
    "This section shows you how to setup the Python dependencies you'll need. It also shows you how to get an API key for both Pinecone and OpenAI."
   ]
  },
  {
   "cell_type": "markdown",
   "metadata": {},
   "source": [
    "### Running the tutorial\n",
    "\n",
    "If you want to run this tutorial yourself, you can find it hosted [here on Colab](https://colab.research.google.com/github/ninetack/blog-public/blob/main/content/002_blog/002_first_steps_with_pinecone.ipynb) as a Jupyter notebook (easiest), or you can find the original notebook file [here on Github](https://github.com/ninetack/blog-public/blob/main/content/002_blog/002_first_steps_with_pinecone.ipynb). \n",
    "\n",
    "The only runtime requirement is Python 3."
   ]
  },
  {
   "cell_type": "markdown",
   "metadata": {},
   "source": [
    "### Environment setup\n",
    "\n",
    "Let's setup our environment, including dependencies and obtaining API keys.\n",
    "\n",
    "#### Install dependencies\n",
    "\n",
    "We install the `pinecone-client`, plus we need the `openai` package because we will be using the `text-embedding-ada-002` embedding model [from OpenAI](https://platform.openai.com/docs/guides/embeddings/what-are-embeddings)."
   ]
  },
  {
   "cell_type": "code",
   "execution_count": 1,
   "metadata": {},
   "outputs": [],
   "source": [
    "! python -m pip install -qU \\\n",
    "    pinecone-client==2.2.2 \\\n",
    "    openai==0.27.8 \\\n",
    "    pandas==2.0.3 \\\n",
    "    tqdm"
   ]
  },
  {
   "cell_type": "markdown",
   "metadata": {},
   "source": [
    "#### Get a Pinecone API key\n",
    "\n",
    "After creating or logging into your account with [Pinecone](https://app.pinecone.io), create a new **Project**. (Note: if you just created your account, you might already have a default Project, but to avoid any issues we suggest deleting that one and creating a brand new Project.)\n",
    "\n",
    "Click on \"API Keys\" in the menu. You can use the default API key, but the best practice is to create a new API key specific to the client application, so you can manage it separately from anything else you build.\n",
    "\n",
    "Copy both the **Environment** setting as well as the **API key**, which will be something like `5a5b3643-4cc9-48da-af3e-56eee93bf435`. \n",
    "\n",
    "You'll enter them both below in the Environment variables section."
   ]
  },
  {
   "cell_type": "markdown",
   "metadata": {},
   "source": [
    "#### Get an Open AI API key\n",
    "\n",
    "If you don't have an OpenAI account, create one at https://platform.openai.com/.\n",
    "\n",
    "> Note that you will need to establish billing info with OpenAI. Creating embeddings is not free, but the embeddings model we're using in this tutorial (`text-embedding-ada-002`) is incredibly cost efficient. See [OpenAI's embeddings documentation](https://platform.openai.com/docs/guides/embeddings/what-are-embeddings) for more info about estimating embeddings costs.\n",
    ">\n",
    "> It's also a good idea to visit the \"Usage Limits\" settings on your OpenAI account page, and establish spending limits that make sense for you to avoid getting a nasty surprise bill!\n",
    "\n",
    "Click on \"API Keys\" in the menu. Creating a new API key specific to the client application is preferred.\n",
    "\n",
    "You'll also enter this below."
   ]
  },
  {
   "cell_type": "markdown",
   "metadata": {},
   "source": [
    "#### Environment variables\n",
    "\n",
    "We need to set 3 environment variables. You can edit the code below to set them directly.\n",
    "\n",
    "- `PINECONE_ENVIRONMENT` - The Pinecone environment where your index resides\n",
    "- `PINECONE_API_KEY` - Your pinecone API key\n",
    "- `OPENAI_API_KEY` - Your OpenAI API key\n",
    "\n",
    "In practice, you'd likely set these in a private `.env` file or otherwise securely configure them in your runtime environment settings."
   ]
  },
  {
   "cell_type": "code",
   "execution_count": 3,
   "metadata": {},
   "outputs": [
    {
     "name": "stdout",
     "output_type": "stream",
     "text": [
      "Check environment\n",
      "---------------------\n",
      "pinecone_env: us-west4-gcp-free\n",
      "pinecone_api_key: 05131 ...\n",
      "openai_api_key: sk-7w ...\n"
     ]
    }
   ],
   "source": [
    "\n",
    "import os\n",
    "\n",
    "print(\"Check environment\\n---------------------\")\n",
    "\n",
    "pinecone_env = os.environ.get('PINECONE_ENVIRONMENT') or \"YOUR PINECONE ENVIRONMENT\"\n",
    "pinecone_api_key = os.environ.get('PINECONE_API_KEY') or \"YOUR PINECONE API KEY\"\n",
    "openai_api_key = os.environ.get('OPENAI_API_KEY') or \"YOUR OPENAI API KEY\"\n",
    "\n",
    "print(\"pinecone_env:\", pinecone_env)\n",
    "print(\"pinecone_api_key:\", pinecone_api_key[:5], \"...\")\n",
    "print(\"openai_api_key:\", openai_api_key[:5], \"...\")"
   ]
  },
  {
   "cell_type": "markdown",
   "metadata": {},
   "source": [
    "### Dataset review"
   ]
  },
  {
   "cell_type": "markdown",
   "metadata": {},
   "source": [
    "We're using the [IMDB Movies Dataset](https://www.kaggle.com/datasets/harshitshankhdhar/imdb-dataset-of-top-1000-movies-and-tv-shows) from Kaggle for this tutorial.\n",
    "\n",
    "For simplicity, we'll assume it's already downloaded and stored in a CSV file relative to the current directory: `./data/imdb_top_1000_movies.csv` (although the [Kaggle python library](https://pypi.org/project/kaggle/) could help with that part too)."
   ]
  },
  {
   "cell_type": "markdown",
   "metadata": {},
   "source": [
    "Let's have a look at the dataset:"
   ]
  },
  {
   "cell_type": "code",
   "execution_count": 26,
   "metadata": {},
   "outputs": [
    {
     "data": {
      "text/html": [
       "<div>\n",
       "<style scoped>\n",
       "    .dataframe tbody tr th:only-of-type {\n",
       "        vertical-align: middle;\n",
       "    }\n",
       "\n",
       "    .dataframe tbody tr th {\n",
       "        vertical-align: top;\n",
       "    }\n",
       "\n",
       "    .dataframe thead th {\n",
       "        text-align: right;\n",
       "    }\n",
       "</style>\n",
       "<table border=\"1\" class=\"dataframe\">\n",
       "  <thead>\n",
       "    <tr style=\"text-align: right;\">\n",
       "      <th></th>\n",
       "      <th>Poster_Link</th>\n",
       "      <th>Series_Title</th>\n",
       "      <th>Released_Year</th>\n",
       "      <th>Certificate</th>\n",
       "      <th>Runtime</th>\n",
       "      <th>Genre</th>\n",
       "      <th>IMDB_Rating</th>\n",
       "      <th>Overview</th>\n",
       "      <th>Meta_score</th>\n",
       "      <th>Director</th>\n",
       "      <th>Star1</th>\n",
       "      <th>Star2</th>\n",
       "      <th>Star3</th>\n",
       "      <th>Star4</th>\n",
       "      <th>No_of_Votes</th>\n",
       "      <th>Gross</th>\n",
       "    </tr>\n",
       "  </thead>\n",
       "  <tbody>\n",
       "    <tr>\n",
       "      <th>0</th>\n",
       "      <td>https://m.media-amazon.com/images/M/MV5BMDFkYT...</td>\n",
       "      <td>The Shawshank Redemption</td>\n",
       "      <td>1994</td>\n",
       "      <td>A</td>\n",
       "      <td>142 min</td>\n",
       "      <td>Drama</td>\n",
       "      <td>9.3</td>\n",
       "      <td>Two imprisoned men bond over a number of years...</td>\n",
       "      <td>80.0</td>\n",
       "      <td>Frank Darabont</td>\n",
       "      <td>Tim Robbins</td>\n",
       "      <td>Morgan Freeman</td>\n",
       "      <td>Bob Gunton</td>\n",
       "      <td>William Sadler</td>\n",
       "      <td>2343110</td>\n",
       "      <td>28,341,469</td>\n",
       "    </tr>\n",
       "    <tr>\n",
       "      <th>1</th>\n",
       "      <td>https://m.media-amazon.com/images/M/MV5BM2MyNj...</td>\n",
       "      <td>The Godfather</td>\n",
       "      <td>1972</td>\n",
       "      <td>A</td>\n",
       "      <td>175 min</td>\n",
       "      <td>Crime, Drama</td>\n",
       "      <td>9.2</td>\n",
       "      <td>An organized crime dynasty's aging patriarch t...</td>\n",
       "      <td>100.0</td>\n",
       "      <td>Francis Ford Coppola</td>\n",
       "      <td>Marlon Brando</td>\n",
       "      <td>Al Pacino</td>\n",
       "      <td>James Caan</td>\n",
       "      <td>Diane Keaton</td>\n",
       "      <td>1620367</td>\n",
       "      <td>134,966,411</td>\n",
       "    </tr>\n",
       "    <tr>\n",
       "      <th>2</th>\n",
       "      <td>https://m.media-amazon.com/images/M/MV5BMTMxNT...</td>\n",
       "      <td>The Dark Knight</td>\n",
       "      <td>2008</td>\n",
       "      <td>UA</td>\n",
       "      <td>152 min</td>\n",
       "      <td>Action, Crime, Drama</td>\n",
       "      <td>9.0</td>\n",
       "      <td>When the menace known as the Joker wreaks havo...</td>\n",
       "      <td>84.0</td>\n",
       "      <td>Christopher Nolan</td>\n",
       "      <td>Christian Bale</td>\n",
       "      <td>Heath Ledger</td>\n",
       "      <td>Aaron Eckhart</td>\n",
       "      <td>Michael Caine</td>\n",
       "      <td>2303232</td>\n",
       "      <td>534,858,444</td>\n",
       "    </tr>\n",
       "    <tr>\n",
       "      <th>3</th>\n",
       "      <td>https://m.media-amazon.com/images/M/MV5BMWMwMG...</td>\n",
       "      <td>The Godfather: Part II</td>\n",
       "      <td>1974</td>\n",
       "      <td>A</td>\n",
       "      <td>202 min</td>\n",
       "      <td>Crime, Drama</td>\n",
       "      <td>9.0</td>\n",
       "      <td>The early life and career of Vito Corleone in ...</td>\n",
       "      <td>90.0</td>\n",
       "      <td>Francis Ford Coppola</td>\n",
       "      <td>Al Pacino</td>\n",
       "      <td>Robert De Niro</td>\n",
       "      <td>Robert Duvall</td>\n",
       "      <td>Diane Keaton</td>\n",
       "      <td>1129952</td>\n",
       "      <td>57,300,000</td>\n",
       "    </tr>\n",
       "    <tr>\n",
       "      <th>4</th>\n",
       "      <td>https://m.media-amazon.com/images/M/MV5BMWU4N2...</td>\n",
       "      <td>12 Angry Men</td>\n",
       "      <td>1957</td>\n",
       "      <td>U</td>\n",
       "      <td>96 min</td>\n",
       "      <td>Crime, Drama</td>\n",
       "      <td>9.0</td>\n",
       "      <td>A jury holdout attempts to prevent a miscarria...</td>\n",
       "      <td>96.0</td>\n",
       "      <td>Sidney Lumet</td>\n",
       "      <td>Henry Fonda</td>\n",
       "      <td>Lee J. Cobb</td>\n",
       "      <td>Martin Balsam</td>\n",
       "      <td>John Fiedler</td>\n",
       "      <td>689845</td>\n",
       "      <td>4,360,000</td>\n",
       "    </tr>\n",
       "  </tbody>\n",
       "</table>\n",
       "</div>"
      ],
      "text/plain": [
       "                                         Poster_Link  \\\n",
       "0  https://m.media-amazon.com/images/M/MV5BMDFkYT...   \n",
       "1  https://m.media-amazon.com/images/M/MV5BM2MyNj...   \n",
       "2  https://m.media-amazon.com/images/M/MV5BMTMxNT...   \n",
       "3  https://m.media-amazon.com/images/M/MV5BMWMwMG...   \n",
       "4  https://m.media-amazon.com/images/M/MV5BMWU4N2...   \n",
       "\n",
       "               Series_Title Released_Year Certificate  Runtime  \\\n",
       "0  The Shawshank Redemption          1994           A  142 min   \n",
       "1             The Godfather          1972           A  175 min   \n",
       "2           The Dark Knight          2008          UA  152 min   \n",
       "3    The Godfather: Part II          1974           A  202 min   \n",
       "4              12 Angry Men          1957           U   96 min   \n",
       "\n",
       "                  Genre  IMDB_Rating  \\\n",
       "0                 Drama          9.3   \n",
       "1          Crime, Drama          9.2   \n",
       "2  Action, Crime, Drama          9.0   \n",
       "3          Crime, Drama          9.0   \n",
       "4          Crime, Drama          9.0   \n",
       "\n",
       "                                            Overview  Meta_score  \\\n",
       "0  Two imprisoned men bond over a number of years...        80.0   \n",
       "1  An organized crime dynasty's aging patriarch t...       100.0   \n",
       "2  When the menace known as the Joker wreaks havo...        84.0   \n",
       "3  The early life and career of Vito Corleone in ...        90.0   \n",
       "4  A jury holdout attempts to prevent a miscarria...        96.0   \n",
       "\n",
       "               Director           Star1           Star2          Star3  \\\n",
       "0        Frank Darabont     Tim Robbins  Morgan Freeman     Bob Gunton   \n",
       "1  Francis Ford Coppola   Marlon Brando       Al Pacino     James Caan   \n",
       "2     Christopher Nolan  Christian Bale    Heath Ledger  Aaron Eckhart   \n",
       "3  Francis Ford Coppola       Al Pacino  Robert De Niro  Robert Duvall   \n",
       "4          Sidney Lumet     Henry Fonda     Lee J. Cobb  Martin Balsam   \n",
       "\n",
       "            Star4  No_of_Votes        Gross  \n",
       "0  William Sadler      2343110   28,341,469  \n",
       "1    Diane Keaton      1620367  134,966,411  \n",
       "2   Michael Caine      2303232  534,858,444  \n",
       "3    Diane Keaton      1129952   57,300,000  \n",
       "4    John Fiedler       689845    4,360,000  "
      ]
     },
     "execution_count": 26,
     "metadata": {},
     "output_type": "execute_result"
    }
   ],
   "source": [
    "import pandas as pd\n",
    "from pathlib import Path\n",
    "\n",
    "# try to find the dataset locally, otherwise download it from GH\n",
    "dataset_file_path = \"./data/imdb_top_1000_movies.csv\"\n",
    "if not Path(dataset_file_path).is_file():\n",
    "  dataset_file_path = \"https://raw.githubusercontent.com/ninetack/blog-public/main/content/002_blog/data/imdb_top_1000_movies.csv\"\n",
    "\n",
    "movies_df = pd.read_csv(dataset_file_path)\n",
    "movies_df.head()"
   ]
  },
  {
   "cell_type": "markdown",
   "metadata": {},
   "source": [
    "There's potentially a lot of interesting info here, but for our app we'll focus on just a few columns: title and description."
   ]
  },
  {
   "cell_type": "code",
   "execution_count": 12,
   "metadata": {},
   "outputs": [
    {
     "data": {
      "text/html": [
       "<div>\n",
       "<style scoped>\n",
       "    .dataframe tbody tr th:only-of-type {\n",
       "        vertical-align: middle;\n",
       "    }\n",
       "\n",
       "    .dataframe tbody tr th {\n",
       "        vertical-align: top;\n",
       "    }\n",
       "\n",
       "    .dataframe thead th {\n",
       "        text-align: right;\n",
       "    }\n",
       "</style>\n",
       "<table border=\"1\" class=\"dataframe\">\n",
       "  <thead>\n",
       "    <tr style=\"text-align: right;\">\n",
       "      <th></th>\n",
       "      <th>Title</th>\n",
       "      <th>Description</th>\n",
       "    </tr>\n",
       "  </thead>\n",
       "  <tbody>\n",
       "    <tr>\n",
       "      <th>0</th>\n",
       "      <td>The Shawshank Redemption</td>\n",
       "      <td>Two imprisoned men bond over a number of years...</td>\n",
       "    </tr>\n",
       "    <tr>\n",
       "      <th>1</th>\n",
       "      <td>The Godfather</td>\n",
       "      <td>An organized crime dynasty's aging patriarch t...</td>\n",
       "    </tr>\n",
       "    <tr>\n",
       "      <th>2</th>\n",
       "      <td>The Dark Knight</td>\n",
       "      <td>When the menace known as the Joker wreaks havo...</td>\n",
       "    </tr>\n",
       "    <tr>\n",
       "      <th>3</th>\n",
       "      <td>The Godfather: Part II</td>\n",
       "      <td>The early life and career of Vito Corleone in ...</td>\n",
       "    </tr>\n",
       "    <tr>\n",
       "      <th>4</th>\n",
       "      <td>12 Angry Men</td>\n",
       "      <td>A jury holdout attempts to prevent a miscarria...</td>\n",
       "    </tr>\n",
       "  </tbody>\n",
       "</table>\n",
       "</div>"
      ],
      "text/plain": [
       "                      Title                                        Description\n",
       "0  The Shawshank Redemption  Two imprisoned men bond over a number of years...\n",
       "1             The Godfather  An organized crime dynasty's aging patriarch t...\n",
       "2           The Dark Knight  When the menace known as the Joker wreaks havo...\n",
       "3    The Godfather: Part II  The early life and career of Vito Corleone in ...\n",
       "4              12 Angry Men  A jury holdout attempts to prevent a miscarria..."
      ]
     },
     "execution_count": 12,
     "metadata": {},
     "output_type": "execute_result"
    }
   ],
   "source": [
    "movies_df = movies_df[['Series_Title', 'Overview']].copy() # select the columns we care about\n",
    "movies_df.columns = ['Title', 'Description'] # rename columns\n",
    "\n",
    "movies_df.head()"
   ]
  },
  {
   "cell_type": "markdown",
   "metadata": {},
   "source": [
    "We'll also need a unique ID for each movie, so let's add one now, starting from 1000."
   ]
  },
  {
   "cell_type": "code",
   "execution_count": 13,
   "metadata": {},
   "outputs": [
    {
     "data": {
      "text/html": [
       "<div>\n",
       "<style scoped>\n",
       "    .dataframe tbody tr th:only-of-type {\n",
       "        vertical-align: middle;\n",
       "    }\n",
       "\n",
       "    .dataframe tbody tr th {\n",
       "        vertical-align: top;\n",
       "    }\n",
       "\n",
       "    .dataframe thead th {\n",
       "        text-align: right;\n",
       "    }\n",
       "</style>\n",
       "<table border=\"1\" class=\"dataframe\">\n",
       "  <thead>\n",
       "    <tr style=\"text-align: right;\">\n",
       "      <th></th>\n",
       "      <th>Title</th>\n",
       "      <th>Description</th>\n",
       "      <th>ID</th>\n",
       "    </tr>\n",
       "  </thead>\n",
       "  <tbody>\n",
       "    <tr>\n",
       "      <th>0</th>\n",
       "      <td>The Shawshank Redemption</td>\n",
       "      <td>Two imprisoned men bond over a number of years...</td>\n",
       "      <td>1000</td>\n",
       "    </tr>\n",
       "    <tr>\n",
       "      <th>1</th>\n",
       "      <td>The Godfather</td>\n",
       "      <td>An organized crime dynasty's aging patriarch t...</td>\n",
       "      <td>1001</td>\n",
       "    </tr>\n",
       "    <tr>\n",
       "      <th>2</th>\n",
       "      <td>The Dark Knight</td>\n",
       "      <td>When the menace known as the Joker wreaks havo...</td>\n",
       "      <td>1002</td>\n",
       "    </tr>\n",
       "    <tr>\n",
       "      <th>3</th>\n",
       "      <td>The Godfather: Part II</td>\n",
       "      <td>The early life and career of Vito Corleone in ...</td>\n",
       "      <td>1003</td>\n",
       "    </tr>\n",
       "    <tr>\n",
       "      <th>4</th>\n",
       "      <td>12 Angry Men</td>\n",
       "      <td>A jury holdout attempts to prevent a miscarria...</td>\n",
       "      <td>1004</td>\n",
       "    </tr>\n",
       "  </tbody>\n",
       "</table>\n",
       "</div>"
      ],
      "text/plain": [
       "                      Title  \\\n",
       "0  The Shawshank Redemption   \n",
       "1             The Godfather   \n",
       "2           The Dark Knight   \n",
       "3    The Godfather: Part II   \n",
       "4              12 Angry Men   \n",
       "\n",
       "                                         Description    ID  \n",
       "0  Two imprisoned men bond over a number of years...  1000  \n",
       "1  An organized crime dynasty's aging patriarch t...  1001  \n",
       "2  When the menace known as the Joker wreaks havo...  1002  \n",
       "3  The early life and career of Vito Corleone in ...  1003  \n",
       "4  A jury holdout attempts to prevent a miscarria...  1004  "
      ]
     },
     "execution_count": 13,
     "metadata": {},
     "output_type": "execute_result"
    }
   ],
   "source": [
    "movies_df['ID'] = [str(id) for id in range(1000, 1000+len(movies_df))]\n",
    "\n",
    "movies_df.head()"
   ]
  },
  {
   "cell_type": "markdown",
   "metadata": {},
   "source": [
    "## 2. Putting data in Pinecone DB\n",
    "\n",
    "Now that we're all setup, let's get our data into Pinecone!\n",
    "\n",
    "We need to:\n",
    "- Design the data model\n",
    "- Create embeddings\n",
    "- Create the Pinecone Index\n",
    "- Insert to Pinecone"
   ]
  },
  {
   "cell_type": "markdown",
   "metadata": {},
   "source": [
    "### Data modeling in Pinecone\n",
    "\n",
    "*How* we store data in Pinecone is just as important as what data we store in Pinecone, and it's all based on how we intend to search the data.\n",
    "\n",
    "#### Namespaces\n",
    "Pinecone allows you to insert data into a `namespace`. Think of this as a logical grouping of data that identifies a search boundary. When searching, you specify the namespace you want to execute your search within. \n",
    "\n",
    "In our movie recall app, we want to allow searches by Description. So we'll populate data into just one namespace:\n",
    "- 'movie-descriptions'\n",
    "\n",
    "#### Metadata\n",
    "Pinecone also allows you to associate metadata to each vector stored in the DB. The primary use cases for metadata are: \n",
    "- Filtering at search time\n",
    "- Retrieval of associated/additional (non-vectored) content from search results\n",
    "\n",
    "For our use case, we don't need to use metadata.\n",
    "\n",
    "#### Our data model\n",
    "Remember, we want to be able to search for a movie title based on a similarity search against its description.\n",
    "\n",
    "For example, if someone enters \"A guy gets sent back in time in a car\", the app should return \"Back to the Future\".\n",
    "\n",
    "So the vector search will be performed against the movie descriptions, which means we need the descriptions to be *vectorized* in the database. \n",
    "\n",
    "Finally, we want to return the name of a movie when we find a match, so we'll use the movie's unique ID as the unique ID for our content in Pinecone. When we find a match we can use the ID to lookup the title and original description from our dataset."
   ]
  },
  {
   "cell_type": "markdown",
   "metadata": {},
   "source": [
    "### Overview of data flow\n",
    "\n",
    "Here is an overview of the flow of data, including both indexing time and query time. \n",
    "\n",
    "<figure align=\"middle\">\n",
    "  <img src=\"./img/02-data-flow.png\" width=\"800\"/>\n",
    "  <figcaption>Fig. 2 - Total Movie Recall app data flow</figcaption>\n",
    "</figure>\n",
    "\n",
    "In this section, we show you how to index your data in Pinecone. In the next section, we show you how to query."
   ]
  },
  {
   "cell_type": "markdown",
   "metadata": {},
   "source": [
    "### Creating embeddings"
   ]
  },
  {
   "cell_type": "markdown",
   "metadata": {},
   "source": [
    "To enable semantic search, we need to encode our dataset using an embeddings model. You can learn more about embeddings in our post \"[Intro to semantic search with vector databases](https://www.ninetack.io/post/intro-to-semantic-search-with-vector-databases)\".\n",
    "\n",
    "To get accurate search results, we need to use the same model to create embeddings for the searchable dataset as well as for each query against that dataset. \n",
    "\n",
    "We're going to use the `text-embedding-ada-002` model from OpenAI, which is both affordable and effective in preserving semantic meaning of textual datasets."
   ]
  },
  {
   "cell_type": "markdown",
   "metadata": {},
   "source": [
    "Let's try creating embeddings for the first few items."
   ]
  },
  {
   "cell_type": "code",
   "execution_count": 14,
   "metadata": {},
   "outputs": [
    {
     "name": "stdout",
     "output_type": "stream",
     "text": [
      "Embedding results:\n",
      "----------------------\n",
      "Input: \"Two imprisoned men bond over a number of years, finding solace and eventual redemption through acts of common decency.\"\n",
      "Embedding: [0.023489240556955338, -0.03612123429775238, 0.012475396506488323] ...(truncated)\n",
      "Embedding length: 1536\n",
      "\n",
      "Input: \"An organized crime dynasty's aging patriarch transfers control of his clandestine empire to his reluctant son.\"\n",
      "Embedding: [0.004656488541513681, -0.03917321190237999, 0.019279731437563896] ...(truncated)\n",
      "Embedding length: 1536\n",
      "\n",
      "Input: \"When the menace known as the Joker wreaks havoc and chaos on the people of Gotham, Batman must accept one of the greatest psychological and physical tests of his ability to fight injustice.\"\n",
      "Embedding: [-0.00337048526853323, -0.03665561601519585, 0.010372190736234188] ...(truncated)\n",
      "Embedding length: 1536\n",
      "\n"
     ]
    }
   ],
   "source": [
    "import openai\n",
    "openai.api_key = openai_api_key\n",
    "\n",
    "model_id = 'text-embedding-ada-002'\n",
    "\n",
    "# grab the first 3 descriptions\n",
    "batch_strs = movies_df['Description'][0:3].tolist()\n",
    "\n",
    "# create the embeddings for all 3\n",
    "embeddings_resp = openai.Embedding.create(input=batch_strs,\n",
    "                                          model=model_id)['data']\n",
    "\n",
    "print(\"Embedding results:\\n----------------------\")\n",
    "for i, embrsp in enumerate(embeddings_resp):\n",
    "  print(f'Input: \"{batch_strs[i]}\"')\n",
    "  print(\"Embedding:\", embrsp['embedding'][0:3], \"...(truncated)\")\n",
    "  print(\"Embedding length:\", len(embrsp['embedding']))\n",
    "  print()"
   ]
  },
  {
   "cell_type": "markdown",
   "metadata": {},
   "source": [
    "Great, so we can see each movie description is being encoded as 1536 dimensional points.\n",
    "\n",
    "> **What's so special about 1536?**\n",
    "> \n",
    "> That's the dimension size of the model we're using, `text-embedding-ada-002`. If you use a different embedding model, it will likely have a different dimension size. You'll need to remember this number when you create the Pinecone index below!\n",
    "\n",
    "Let's wrap the call to create embeddings in a function that accepts a batch of strings as input, and returns an array of vector encodings."
   ]
  },
  {
   "cell_type": "code",
   "execution_count": 15,
   "metadata": {},
   "outputs": [
    {
     "name": "stdout",
     "output_type": "stream",
     "text": [
      "1536 [-0.020593425258994102, -0.02472022734582424, -0.0007298014825209975] ...\n",
      "1536 [-0.011000500060617924, -0.02523421309888363, -0.024779541417956352] ...\n"
     ]
    }
   ],
   "source": [
    "def create_embeddings(batch: list[str]):\n",
    "  model_id = 'text-embedding-ada-002'\n",
    "  embedding_resp = openai.Embedding.create(input=batch, model=model_id)\n",
    "  return [emb['embedding'] for emb in embedding_resp['data']]\n",
    "\n",
    "# try it out for the next few descriptions\n",
    "embeddings = create_embeddings(batch=movies_df['Description'][4:6].tolist())\n",
    "print(len(embeddings[0]), embeddings[0][0:3], \"...\")\n",
    "print(len(embeddings[1]), embeddings[1][0:3], \"...\")\n"
   ]
  },
  {
   "cell_type": "markdown",
   "metadata": {},
   "source": [
    "Checkpoint! \n",
    "\n",
    "So far we have:\n",
    "- selected an embedding model\n",
    "- identified our vector data model\n",
    "- created a function that can create embeddings\n",
    "\n",
    "Next up, let's store some data in Pinecone!"
   ]
  },
  {
   "cell_type": "markdown",
   "metadata": {},
   "source": [
    "### Creating a Pinecone index\n",
    "\n",
    "We'll create the Pinecone index via the Pinecone web console (although it's possible to create via the API as well).\n",
    "\n",
    "Open up the Pinecone app at https://app.pinecone.io, click on Indexes, and then Create Index.\n",
    "\n",
    "> Data Modeling Tip: Each Pinecone index can only store one 'shape' of thing. This means all the embeddings stored in the index must use the same embedding model, have the same dimensions, and same metric type setting. \n",
    ">\n",
    "> For example, if we wanted to allow searching for similar movie posters (images), we would need to select an embeddings model that is trained on images, and the embeddings would need to be stored in a different index in Pinecone.\n",
    "\n",
    "Give the index a name based on the use case, set the Dimension size (1536 based on our use of `text-embedding-ada-002`), and leave the default Metric set to `cosine`.\n",
    "\n",
    "<figure align=\"middle\">\n",
    "  <img src=\"./img/03a-create-index.png\" width=\"800\"/>\n",
    "  <figcaption>Fig. 3a - Create Pinecone index</figcaption>\n",
    "</figure>"
   ]
  },
  {
   "cell_type": "markdown",
   "metadata": {},
   "source": [
    "> Note: For a more detailed discussion of the Metric setting, including when you should set it to something else like Euclidean, this article from Pinecone provides a nice overview of the different similarity metric options: [Vector Similarity Explained](https://www.pinecone.io/learn/vector-similarity).\n",
    "\n",
    "The index will take a few minutes to initialize.\n",
    "\n",
    "<figure align=\"middle\">\n",
    "  <img src=\"./img/03b-index-ready.png\" width=\"800\"/>\n",
    "  <figcaption>Fig. 3b - Index ready</figcaption>\n",
    "</figure>"
   ]
  },
  {
   "cell_type": "markdown",
   "metadata": {},
   "source": [
    "### Inserting data to Pinecone\n",
    "\n",
    "We'll use the `pinecone-client` lib to insert data into Pinecone. First we need to initialize it with our API key and environment."
   ]
  },
  {
   "cell_type": "code",
   "execution_count": 16,
   "metadata": {},
   "outputs": [
    {
     "name": "stderr",
     "output_type": "stream",
     "text": [
      "/Users/silas/mambaforge/envs/cenv-blog-content/lib/python3.10/site-packages/pinecone/index.py:4: TqdmWarning: IProgress not found. Please update jupyter and ipywidgets. See https://ipywidgets.readthedocs.io/en/stable/user_install.html\n",
      "  from tqdm.autonotebook import tqdm\n"
     ]
    },
    {
     "data": {
      "text/plain": [
       "IndexDescription(name='movie-index', metric='cosine', replicas=1, dimension=1536.0, shards=1, pods=1, pod_type='p1', status={'ready': True, 'state': 'Ready'}, metadata_config=None, source_collection='')"
      ]
     },
     "execution_count": 16,
     "metadata": {},
     "output_type": "execute_result"
    }
   ],
   "source": [
    "import pinecone\n",
    "\n",
    "pinecone.init(api_key=pinecone_api_key, environment=pinecone_env)\n",
    "\n",
    "# verify client init by retrieving info about our index\n",
    "pinecone.describe_index(name=\"movie-index\")"
   ]
  },
  {
   "cell_type": "markdown",
   "metadata": {},
   "source": [
    "Each item you store in Pinecone has this structure:\n",
    "\n",
    "| Name | Description |\n",
    "|------|-------------|\n",
    "| `id` | A unique ID used to manage the vector |\n",
    "| `values` | The vector embedding itself |\n",
    "| `metadata` | Key/value data that can be used for filtering query results or returning associated data |"
   ]
  },
  {
   "cell_type": "markdown",
   "metadata": {},
   "source": [
    "To store an item in Pinecone, we need to first get a reference to the index. Then we can use the `upsert` function, which will insert or update the item based on its ID.\n",
    "\n",
    "Let's store the description for *The Shawshank Redemption* in Pinecone."
   ]
  },
  {
   "cell_type": "code",
   "execution_count": 17,
   "metadata": {},
   "outputs": [
    {
     "data": {
      "text/plain": [
       "{'upserted_count': 1}"
      ]
     },
     "execution_count": 17,
     "metadata": {},
     "output_type": "execute_result"
    }
   ],
   "source": [
    "movie_index = pinecone.Index(index_name=\"movie-index\")\n",
    "\n",
    "shawshank_item = {\n",
    "  'id': \"1000\",\n",
    "  'values': create_embeddings(batch=movies_df['Description'][0:1].tolist())[0],\n",
    "}\n",
    "\n",
    "response = movie_index.upsert(vectors=[shawshank_item], namespace=\"movie-descriptions\")\n",
    "response"
   ]
  },
  {
   "cell_type": "markdown",
   "metadata": {},
   "source": [
    "Where did we get the namespace \"movie-descriptions\" from? It came from our data model design above!"
   ]
  },
  {
   "cell_type": "markdown",
   "metadata": {},
   "source": [
    "#### Batching upserts\n",
    "\n",
    "For best performance, Pinecone recommends uploading batches of 100 embeddings at a time, and the same batch size works well for OpenAI's embeddings endpoint. Let's write a function to process our dataset in batches of 100.\n",
    "\n",
    "It will create embeddings for 100 items and then upload those 100 embeddings to Pinecone, with all the right metadata."
   ]
  },
  {
   "cell_type": "code",
   "execution_count": 18,
   "metadata": {},
   "outputs": [
    {
     "name": "stdout",
     "output_type": "stream",
     "text": [
      "Start processing 10 batches for 1000 total items\n",
      "Processing batch 1 with 100 items\n",
      "{'upserted_count': 100}\n",
      "Processing batch 2 with 100 items\n",
      "{'upserted_count': 100}\n",
      "Processing batch 3 with 100 items\n",
      "{'upserted_count': 100}\n",
      "Processing batch 4 with 100 items\n",
      "{'upserted_count': 100}\n",
      "Processing batch 5 with 100 items\n",
      "{'upserted_count': 100}\n",
      "Processing batch 6 with 100 items\n",
      "{'upserted_count': 100}\n",
      "Processing batch 7 with 100 items\n",
      "{'upserted_count': 100}\n",
      "Processing batch 8 with 100 items\n",
      "{'upserted_count': 100}\n",
      "Processing batch 9 with 100 items\n",
      "{'upserted_count': 100}\n",
      "Processing batch 10 with 100 items\n",
      "{'upserted_count': 100}\n"
     ]
    }
   ],
   "source": [
    "batch_size = 100\n",
    "\n",
    "def batch_process():\n",
    "  total_items = len(movies_df)\n",
    "  num_batches = total_items // batch_size\n",
    "  if total_items % batch_size > 0:\n",
    "    num_batches = num_batches + 1 \n",
    "\n",
    "  print(f'Start processing {num_batches} batches for {total_items} total items')\n",
    "\n",
    "  # process a batch at a time\n",
    "  for i in range(num_batches):\n",
    "    start = i * batch_size\n",
    "    end = (i + 1) * batch_size\n",
    "    df_batch = movies_df[start:end]\n",
    "\n",
    "    print(f'Processing batch {i+1} with {len(df_batch)} items')\n",
    "\n",
    "    # Create the embeddings\n",
    "    embeddings = create_embeddings(batch=df_batch['Description'].tolist())\n",
    "\n",
    "    # Create an array of items for uploading to Pinecone\n",
    "    to_upload = [{\n",
    "      'id': row['ID'],\n",
    "      'values': embeddings[batch_idx],\n",
    "    } for batch_idx, (df_idx, row) in enumerate(df_batch.iterrows())]\n",
    "\n",
    "    response = movie_index.upsert(vectors=to_upload, namespace=\"movie-descriptions\")\n",
    "    print(response)\n",
    "\n",
    "batch_process()"
   ]
  },
  {
   "cell_type": "markdown",
   "metadata": {},
   "source": [
    "Finally, let's verify all the vectors made it -- there should be 1000."
   ]
  },
  {
   "cell_type": "code",
   "execution_count": 19,
   "metadata": {},
   "outputs": [
    {
     "data": {
      "text/plain": [
       "{'dimension': 1536,\n",
       " 'index_fullness': 0.0,\n",
       " 'namespaces': {'movie-descriptions': {'vector_count': 1000}},\n",
       " 'total_vector_count': 1000}"
      ]
     },
     "execution_count": 19,
     "metadata": {},
     "output_type": "execute_result"
    }
   ],
   "source": [
    "movie_index.describe_index_stats()"
   ]
  },
  {
   "cell_type": "markdown",
   "metadata": {},
   "source": [
    "Now that we've got data in Pinecone, let's search it!"
   ]
  },
  {
   "cell_type": "markdown",
   "metadata": {},
   "source": [
    "## 3. Searching Pinecone\n",
    "\n",
    "Going back to our Total Recall app, we want to be able to provide a brief, possibly terrible, recollection a movie and have it recall the title. \n",
    "\n",
    "For example, *\"It's about this guy who gets stuck on Mars or something?\"* should somehow come back as a match for *The Martian*."
   ]
  },
  {
   "cell_type": "markdown",
   "metadata": {},
   "source": [
    "### Running the search\n",
    "\n",
    "To search the vector space we need to create embeddings for the query text, and then pass those to the `query` interface of our index.\n",
    "\n",
    "We also need to specify \"movie-descriptions\" namespace, since that is where the data resides within Pinecone.\n",
    "\n",
    "Finally, we can specify the number of top search results we want to return using the `top_k` parameter."
   ]
  },
  {
   "cell_type": "code",
   "execution_count": 20,
   "metadata": {},
   "outputs": [
    {
     "data": {
      "text/plain": [
       "{'matches': [{'id': '1329', 'score': 0.892151892, 'values': []},\n",
       "             {'id': '1426', 'score': 0.853859782, 'values': []},\n",
       "             {'id': '1623', 'score': 0.847651958, 'values': []}],\n",
       " 'namespace': 'movie-descriptions'}"
      ]
     },
     "execution_count": 20,
     "metadata": {},
     "output_type": "execute_result"
    }
   ],
   "source": [
    "query = \"It's about this guy who gets stuck on Mars or something?\"\n",
    "query_emb = create_embeddings(batch=[query])[0]\n",
    "\n",
    "query_resp = movie_index.query(vector=query_emb, namespace=\"movie-descriptions\", top_k=3)\n",
    "query_resp"
   ]
  },
  {
   "cell_type": "markdown",
   "metadata": {},
   "source": [
    "We're getting the IDs of the best-matching search results, as well as a score indicator (highest value == best match).\n",
    "\n",
    "Let's use that first result to look up the corresponding row in our dataset."
   ]
  },
  {
   "cell_type": "code",
   "execution_count": 21,
   "metadata": {},
   "outputs": [
    {
     "data": {
      "text/html": [
       "<div>\n",
       "<style scoped>\n",
       "    .dataframe tbody tr th:only-of-type {\n",
       "        vertical-align: middle;\n",
       "    }\n",
       "\n",
       "    .dataframe tbody tr th {\n",
       "        vertical-align: top;\n",
       "    }\n",
       "\n",
       "    .dataframe thead th {\n",
       "        text-align: right;\n",
       "    }\n",
       "</style>\n",
       "<table border=\"1\" class=\"dataframe\">\n",
       "  <thead>\n",
       "    <tr style=\"text-align: right;\">\n",
       "      <th></th>\n",
       "      <th>Title</th>\n",
       "      <th>Description</th>\n",
       "      <th>ID</th>\n",
       "    </tr>\n",
       "  </thead>\n",
       "  <tbody>\n",
       "    <tr>\n",
       "      <th>329</th>\n",
       "      <td>The Martian</td>\n",
       "      <td>An astronaut becomes stranded on Mars after hi...</td>\n",
       "      <td>1329</td>\n",
       "    </tr>\n",
       "  </tbody>\n",
       "</table>\n",
       "</div>"
      ],
      "text/plain": [
       "           Title                                        Description    ID\n",
       "329  The Martian  An astronaut becomes stranded on Mars after hi...  1329"
      ]
     },
     "execution_count": 21,
     "metadata": {},
     "output_type": "execute_result"
    }
   ],
   "source": [
    "top_match_id = query_resp.matches[0]['id']\n",
    "\n",
    "movies_df.loc[movies_df['ID'] == top_match_id]"
   ]
  },
  {
   "cell_type": "markdown",
   "metadata": {},
   "source": [
    "The Martian! Incredible."
   ]
  },
  {
   "cell_type": "markdown",
   "metadata": {},
   "source": [
    "### Putting the app together\n",
    "\n",
    "Let's write a function to encapsulate the search and the lookup, and then do a bit more testing."
   ]
  },
  {
   "cell_type": "code",
   "execution_count": 22,
   "metadata": {},
   "outputs": [
    {
     "data": {
      "text/plain": [
       "{'title': 'The Martian',\n",
       " 'description': 'An astronaut becomes stranded on Mars after his team assume him dead, and must rely on his ingenuity to find a way to signal to Earth that he is alive.'}"
      ]
     },
     "execution_count": 22,
     "metadata": {},
     "output_type": "execute_result"
    }
   ],
   "source": [
    "def total_recall(query: str):\n",
    "  query_emb = create_embeddings(batch=[query])[0]\n",
    "\n",
    "  query_resp = movie_index.query(vector=query_emb, namespace=\"movie-descriptions\", top_k=1)\n",
    "\n",
    "  if len(query_resp.matches) == 0:\n",
    "    return None\n",
    "\n",
    "  top_match_id = query_resp.matches[0]['id']\n",
    "\n",
    "  match_df = movies_df.loc[movies_df['ID'] == top_match_id]\n",
    "  return {\n",
    "    'title': match_df['Title'].values[0],\n",
    "    'description': match_df['Description'].values[0]\n",
    "  }\n",
    "\n",
    "total_recall(query=\"It's about this guy who gets stuck on Mars or something?\")"
   ]
  },
  {
   "cell_type": "markdown",
   "metadata": {},
   "source": [
    "And now we'll run some additional test queries."
   ]
  },
  {
   "cell_type": "code",
   "execution_count": 23,
   "metadata": {},
   "outputs": [
    {
     "name": "stdout",
     "output_type": "stream",
     "text": [
      "\"A guy fights to save his home in Scotland\"\n",
      "--------------------------------------------------\n",
      "Title: Braveheart\n",
      "Description: Scottish warrior William Wallace leads his countrymen in a rebellion to free his homeland from the tyranny of King Edward I of England.\n",
      "\n",
      "\"A guy that eats people helps a cop\"\n",
      "--------------------------------------------------\n",
      "Title: The Silence of the Lambs\n",
      "Description: A young F.B.I. cadet must receive the help of an incarcerated and manipulative cannibal killer to help catch another serial killer, a madman who skins his victims.\n",
      "\n",
      "\"A guy gets sent back in time in a car\"\n",
      "--------------------------------------------------\n",
      "Title: Back to the Future\n",
      "Description: Marty McFly, a 17-year-old high school student, is accidentally sent thirty years into the past in a time-traveling DeLorean invented by his close friend, the eccentric scientist Doc Brown.\n",
      "\n",
      "\"A guy is the head of a mafia family\"\n",
      "--------------------------------------------------\n",
      "Title: The Godfather\n",
      "Description: An organized crime dynasty's aging patriarch transfers control of his clandestine empire to his reluctant son.\n",
      "\n",
      "\"A guy goes crazy in a deserted hotel\"\n",
      "--------------------------------------------------\n",
      "Title: The Shining\n",
      "Description: A family heads to an isolated hotel for the winter where a sinister presence influences the father into violence, while his psychic son sees horrific forebodings from both past and future.\n",
      "\n"
     ]
    }
   ],
   "source": [
    "test_queries = [\n",
    "  \"A guy fights to save his home in Scotland\", # Braveheart\n",
    "  \"A guy that eats people helps a cop\",        # The Silence of the Lambs\n",
    "  \"A guy gets sent back in time in a car\",     # Back to the Future\n",
    "  \"A guy is the head of a mafia family\",       # The Godfather\n",
    "  \"A guy goes crazy in a deserted hotel\",      # The Shining\n",
    "]\n",
    "\n",
    "for testq in test_queries:\n",
    "  result = total_recall(query=testq)\n",
    "  print(f'\"{testq}\"')\n",
    "  print(\"--------------------------------------------------\")\n",
    "  print(\"Title:\", result['title'])\n",
    "  print(\"Description:\", result['description'])\n",
    "  print()"
   ]
  },
  {
   "cell_type": "markdown",
   "metadata": {},
   "source": [
    "## Wrap-up\n",
    "\n",
    "### It works!\n",
    "\n",
    "As you can see, vector semantic search is very powerful. We were able to find matching movie titles despite providing only the bare minimum of information about the movie.\n",
    "\n",
    "Importantly, we can see that the search is *not* relying on keyword search, but is instead finding similarities in the *meanings* of words in the description and query.\n",
    "\n",
    "<figure align=\"middle\">\n",
    "  <img src=\"./img/04-total-recall-godfather.png\" width=\"800\"/>\n",
    "  <figcaption>Fig. 4 - Semantic search, not keyword search</figcaption>\n",
    "</figure>\n",
    "\n",
    "### Next steps\n",
    "\n",
    "#### 1. Expand to TV shows?\n",
    "Now that our Total Recall app is working great for movies, you might consider expanding to include TV shows. (We'll leave that as an exercise to the reader.) \n",
    "\n",
    "If we were to do that, we'd likely use this dataset from Kaggle: [IMDB Top 250 TV Shows](https://www.kaggle.com/datasets/khushipitroda/imdb-top-250-tv-shows). \n",
    "\n",
    "Based on whether we want to search movies and TV shows together or separately, we could either store TV show descriptions in the same namespace as movies or in a separate namespace.\n",
    "\n",
    "#### 2. Deploy the app in a user interface \n",
    "Our tutorial is long enough at this point, but you can imagine how this application could be packaged and rolled out to end users as a simple chat interface.\n",
    "\n",
    "Note that if we were to build this as a full app, we'd likely start with one of Vercel's excellent [Next.js app templates](https://vercel.com/templates), such as [Next.js AI Chatbot](https://vercel.com/templates/next.js/nextjs-ai-chatbot).\n"
   ]
  },
  {
   "cell_type": "markdown",
   "metadata": {},
   "source": [
    "## We'd love to talk with you\n",
    "\n",
    "Ninetack is dedicated to helping our clients leverage the latest technologies to build innovative solutions for every industry.\n",
    "\n",
    "We'd love to talk with you about how you're planning to incorporate vector search in your next AI application. Connect with us today @ ninetack.io!"
   ]
  }
 ],
 "metadata": {
  "kernelspec": {
   "display_name": "Python 3 (ipykernel)",
   "language": "python",
   "name": "python3"
  },
  "language_info": {
   "codemirror_mode": {
    "name": "ipython",
    "version": 3
   },
   "file_extension": ".py",
   "mimetype": "text/x-python",
   "name": "python",
   "nbconvert_exporter": "python",
   "pygments_lexer": "ipython3",
   "version": "3.10.12"
  }
 },
 "nbformat": 4,
 "nbformat_minor": 4
}
