{
 "cells": [
  {
   "cell_type": "markdown",
   "metadata": {},
   "source": [
    "# Improving RAG quality in LLM apps while minimizing vector search costs via summarization"
   ]
  },
  {
   "cell_type": "markdown",
   "metadata": {},
   "source": []
  },
  {
   "cell_type": "markdown",
   "metadata": {},
   "source": [
    "### Environment setup\n",
    "\n",
    "Let's setup our environment, including dependencies and obtaining API keys.\n",
    "> We'll take a few shortcuts here; for more thorough instructions see [First steps with Pinecone DB](https://www.ninetack.io/post/first-steps-with-pinecone-db#viewer-7cp5r)\n",
    "\n",
    "#### Install dependencies\n",
    "\n",
    "We install the `pinecone-client`, plus we need the `openai` package because we will be using the `text-embedding-ada-002` embedding model [from OpenAI](https://platform.openai.com/docs/guides/embeddings/what-are-embeddings)."
   ]
  },
  {
   "cell_type": "code",
   "execution_count": 3,
   "metadata": {},
   "outputs": [],
   "source": [
    "! python -m pip install -qU \\\n",
    "    langchain==0.0.225 \\\n",
    "    pinecone-client==2.2.2 \\\n",
    "    openai==0.27.8 \\\n",
    "    pandas==2.0.3 \\\n",
    "    python-dotenv \\\n",
    "    tqdm"
   ]
  },
  {
   "cell_type": "markdown",
   "metadata": {},
   "source": [
    "#### Environment variables\n",
    "\n",
    "We need to set 3 environment variables. You can edit the code below to set them directly.\n",
    "\n",
    "- `PINECONE_ENVIRONMENT` - The Pinecone environment where your index resides\n",
    "- `PINECONE_API_KEY` - Your pinecone API key\n",
    "- `OPENAI_API_KEY` - Your OpenAI API key\n",
    "\n",
    "If a local `.env` file exists, load the env vars from it."
   ]
  },
  {
   "cell_type": "code",
   "execution_count": 4,
   "metadata": {},
   "outputs": [
    {
     "data": {
      "text/plain": [
       "True"
      ]
     },
     "execution_count": 4,
     "metadata": {},
     "output_type": "execute_result"
    }
   ],
   "source": [
    "from dotenv import load_dotenv\n",
    "load_dotenv()"
   ]
  },
  {
   "cell_type": "markdown",
   "metadata": {},
   "source": [
    "Check the environment config output below, and edit if necessary with your variables."
   ]
  },
  {
   "cell_type": "code",
   "execution_count": 5,
   "metadata": {},
   "outputs": [
    {
     "name": "stdout",
     "output_type": "stream",
     "text": [
      "Check environment\n",
      "---------------------\n",
      "pinecone_env: us-west4-gcp-free\n",
      "pinecone_api_key: 05131 ...\n",
      "openai_api_key: sk-7w ...\n"
     ]
    }
   ],
   "source": [
    "import os\n",
    "\n",
    "print(\"Check environment\\n---------------------\")\n",
    "\n",
    "pinecone_env = os.environ.get('PINECONE_ENVIRONMENT') or \"YOUR PINECONE ENVIRONMENT\"\n",
    "pinecone_api_key = os.environ.get('PINECONE_API_KEY') or \"YOUR PINECONE API KEY\"\n",
    "openai_api_key = os.environ.get('OPENAI_API_KEY') or \"YOUR OPENAI API KEY\"\n",
    "\n",
    "print(\"pinecone_env:\", pinecone_env)\n",
    "print(\"pinecone_api_key:\", pinecone_api_key[:5], \"...\")\n",
    "print(\"openai_api_key:\", openai_api_key[:5], \"...\")"
   ]
  },
  {
   "cell_type": "markdown",
   "metadata": {},
   "source": [
    "Before: https://www.theverge.com/23678497/apple-iphone-15-news-rumors-release-date-specs-features\n",
    "\n",
    "After: https://www.theverge.com/2023/9/12/23862837/iphone-15-event-apple-watch-ultra-airpods-usb-c"
   ]
  },
  {
   "cell_type": "markdown",
   "metadata": {},
   "source": [
    "Setup problem\n",
    " - intro use case\n",
    " - index data w/ normal chunking\n",
    " - show it (kind of) working\n",
    "\n",
    "Intro Summarize\n",
    " - Use LLM to summarize larger chunks\n",
    " - Index summaries\n",
    " - Keep larger chunks on s3\n",
    "\n",
    "Results\n",
    " - Show better search outcomes\n",
    "\n",
    " Wrap-up/next steps"
   ]
  },
  {
   "cell_type": "markdown",
   "metadata": {},
   "source": [
    "#### Initial load -- the simple way:"
   ]
  },
  {
   "cell_type": "code",
   "execution_count": 144,
   "metadata": {},
   "outputs": [
    {
     "name": "stdout",
     "output_type": "stream",
     "text": [
      "Split text from 2 source files into 52 chunks of text)\n"
     ]
    }
   ],
   "source": [
    "from langchain.document_loaders import TextLoader\n",
    "from langchain.text_splitter import RecursiveCharacterTextSplitter\n",
    "\n",
    "chunk_size = 500\n",
    "chunk_overlap = chunk_size // 10\n",
    "\n",
    "def load_document(file_path, source_tag):\n",
    "  loader = TextLoader(file_path=file_path)\n",
    "  doc = loader.load()[0]\n",
    "  doc.metadata[\"source\"] = source_tag\n",
    "  return doc\n",
    "\n",
    "source_files = {\n",
    "  \"Rumor\": \"./text/iphone15_rumors.txt\",\n",
    "  \"Announcement\": \"./text/iphone15_announcements.txt\"\n",
    "}\n",
    "documents = [load_document(file_path=file_path, source_tag=tag) for tag, file_path in source_files.items()]\n",
    "\n",
    "text_splitter = RecursiveCharacterTextSplitter(chunk_size=chunk_size,\n",
    "                                               chunk_overlap=chunk_overlap,\n",
    "                                               separators=[\"\\n\\n\", \"\\n\", \".\", \" \", \"\"])\n",
    "texts = text_splitter.split_documents(documents)\n",
    "print(f\"Split text from {len(source_files.keys())} source files into {len(texts)} chunks of text)\")"
   ]
  },
  {
   "cell_type": "markdown",
   "metadata": {},
   "source": [
    "Create Pinecone index. This takes a couple of minutes. We set dimensions to `1536` because we're going to use the `text-embedding-ada-002` embedding model [from OpenAI](https://platform.openai.com/docs/guides/embeddings/what-are-embeddings)."
   ]
  },
  {
   "cell_type": "code",
   "execution_count": 162,
   "metadata": {},
   "outputs": [],
   "source": [
    "import pinecone\n",
    "\n",
    "pinecone.init(api_key=pinecone_api_key, environment=pinecone_env)"
   ]
  },
  {
   "cell_type": "code",
   "execution_count": 11,
   "metadata": {},
   "outputs": [
    {
     "data": {
      "text/plain": [
       "IndexDescription(name='iphone-index', metric='cosine', replicas=1, dimension=1536.0, shards=1, pods=1, pod_type='p1', status={'ready': True, 'state': 'Ready'}, metadata_config=None, source_collection='')"
      ]
     },
     "execution_count": 11,
     "metadata": {},
     "output_type": "execute_result"
    }
   ],
   "source": [
    "pinecone.create_index(\"iphone-index\", dimension=1536, metric=\"cosine\")"
   ]
  },
  {
   "cell_type": "code",
   "execution_count": 163,
   "metadata": {},
   "outputs": [
    {
     "data": {
      "text/plain": [
       "IndexDescription(name='iphone-index', metric='cosine', replicas=1, dimension=1536.0, shards=1, pods=1, pod_type='p1', status={'ready': True, 'state': 'Ready'}, metadata_config=None, source_collection='')"
      ]
     },
     "execution_count": 163,
     "metadata": {},
     "output_type": "execute_result"
    }
   ],
   "source": [
    "pinecone.describe_index(\"iphone-index\")"
   ]
  },
  {
   "cell_type": "code",
   "execution_count": 70,
   "metadata": {},
   "outputs": [],
   "source": [
    "pinecone_index = pinecone.Index(index_name=\"iphone-index\")"
   ]
  },
  {
   "cell_type": "markdown",
   "metadata": {},
   "source": [
    "Define a function to create embeddings, and then create embeddings for text chunks."
   ]
  },
  {
   "cell_type": "code",
   "execution_count": 147,
   "metadata": {},
   "outputs": [],
   "source": [
    "import openai\n",
    "openai.api_key = openai_api_key\n",
    "\n",
    "def create_embeddings(batch: list[str]):\n",
    "  model_id = 'text-embedding-ada-002'\n",
    "  embedding_resp = openai.Embedding.create(input=batch, model=model_id)\n",
    "  return [emb['embedding'] for emb in embedding_resp['data']]\n",
    "\n",
    "embeddings = create_embeddings([doc.page_content for doc in texts])"
   ]
  },
  {
   "cell_type": "markdown",
   "metadata": {},
   "source": [
    "Upload embeddings to Pinecone"
   ]
  },
  {
   "cell_type": "code",
   "execution_count": 148,
   "metadata": {},
   "outputs": [
    {
     "data": {
      "text/plain": [
       "{'upserted_count': 52}"
      ]
     },
     "execution_count": 148,
     "metadata": {},
     "output_type": "execute_result"
    }
   ],
   "source": [
    "to_upload = [{\n",
    "    'id': f\"item-{i}\",\n",
    "    'values': emb,\n",
    "    'metadata': {\n",
    "      'source': texts[i].metadata['source'],\n",
    "      'text': texts[i].page_content,\n",
    "    }\n",
    "  } for i, emb in enumerate(embeddings)]\n",
    "response = pinecone_index.upsert(vectors=to_upload, namespace=\"direct\")\n",
    "response"
   ]
  },
  {
   "cell_type": "markdown",
   "metadata": {},
   "source": [
    "Create embeddings for the query string"
   ]
  },
  {
   "cell_type": "code",
   "execution_count": 149,
   "metadata": {},
   "outputs": [
    {
     "data": {
      "text/plain": [
       "1536"
      ]
     },
     "execution_count": 149,
     "metadata": {},
     "output_type": "execute_result"
    }
   ],
   "source": [
    "query_str = \"When the iphone 15 is released, is it supposed to still have a mute button?\"\n",
    "query_emb = create_embeddings([query_str])[0]\n",
    "len(query_emb)"
   ]
  },
  {
   "cell_type": "markdown",
   "metadata": {},
   "source": [
    "Run the query. As you can see, we're asking a question about what was actually announced, but we're getting matches against the rumors document. Info is pulled out of context."
   ]
  },
  {
   "cell_type": "code",
   "execution_count": 150,
   "metadata": {},
   "outputs": [
    {
     "name": "stdout",
     "output_type": "stream",
     "text": [
      "Source: Rumor\n",
      "Text: More evidence points toward an action button on the iPhone 15 Pro:\n",
      "As spotted by 9to5Mac, the iOS 17 beta 7 has a new haptic feedback pattern that makes the “phone vibrate more prominently” to signal when silent mode is on or off.\n",
      "That would make sense if Apple ends up replacing the mute switch with a solid-state action button, as the vibration could help users determine which mode it's in.\n",
      "\n"
     ]
    }
   ],
   "source": [
    "response = pinecone_index.query(vector=query_emb, namespace=\"direct\", top_k=1, include_metadata=True)\n",
    "\n",
    "for match in response['matches']:\n",
    "  print(\"Source:\", match['metadata']['source'])\n",
    "  print(\"Text:\", match['metadata']['text'])\n",
    "  print()\n",
    "\n",
    "formatted_context = \"\"\n",
    "for match in response['matches']:\n",
    "  formatted_context += match['metadata']['text'] + \"\\n\\n\""
   ]
  },
  {
   "cell_type": "markdown",
   "metadata": {},
   "source": [
    "Let's see how it does in answering the question"
   ]
  },
  {
   "cell_type": "code",
   "execution_count": 151,
   "metadata": {},
   "outputs": [],
   "source": [
    "from langchain import PromptTemplate\n",
    "\n",
    "qa_template_str = \"\"\"Use the following pieces of context to answer the question at the end. If you don't know the answer, just say that you don't know, don't try to make up an answer.\n",
    "\n",
    "{context}\n",
    "\n",
    "Question: {question}\n",
    "Helpful Answer:\"\"\"\n",
    "qa_template = PromptTemplate(template=qa_template_str, input_variables=[\"context\", \"question\"])"
   ]
  },
  {
   "cell_type": "code",
   "execution_count": 152,
   "metadata": {},
   "outputs": [
    {
     "name": "stdout",
     "output_type": "stream",
     "text": [
      "Prompt:\n",
      "Use the following pieces of context to answer the question at the end. If you don't know the answer, just say that you don't know, don't try to make up an answer.\n",
      "\n",
      "More evidence points toward an action button on the iPhone 15 Pro:\n",
      "As spotted by 9to5Mac, the iOS 17 beta 7 has a new haptic feedback pattern that makes the “phone vibrate more prominently” to signal when silent mode is on or off.\n",
      "That would make sense if Apple ends up replacing the mute switch with a solid-state action button, as the vibration could help users determine which mode it's in.\n",
      "\n",
      "\n",
      "\n",
      "Question: When the iphone 15 is released, is it supposed to still have a mute button?\n",
      "Helpful Answer:\n",
      "\n",
      "\n",
      "Response:\n",
      "I don't know.\n"
     ]
    }
   ],
   "source": [
    "qa_prompt =  qa_template.format(context=formatted_context, question=query_str)\n",
    "print(\"Prompt:\")\n",
    "print(qa_prompt)\n",
    "\n",
    "response = openai.ChatCompletion.create(\n",
    "  model=\"gpt-3.5-turbo\",\n",
    "  messages=[{\"role\": \"user\", \"content\": qa_prompt}]\n",
    ")\n",
    "\n",
    "print(\"\\n\\nResponse:\")\n",
    "print(response['choices'][0]['message']['content'])"
   ]
  },
  {
   "cell_type": "markdown",
   "metadata": {},
   "source": [
    "Not great, maybe we just need to include more search results with `top_k=2`?"
   ]
  },
  {
   "cell_type": "code",
   "execution_count": 166,
   "metadata": {},
   "outputs": [
    {
     "name": "stdout",
     "output_type": "stream",
     "text": [
      "Source: Rumor\n",
      "Text: More evidence points toward an action button on the iPhone 15 Pro:\n",
      "As spotted by 9to5Mac, the iOS 17 beta 7 has a new haptic feedback pattern that makes the “phone vibrate more prominently” to signal when silent mode is on or off.\n",
      "That would make sense if Apple ends up replacing the mute switch with a solid-state action button, as the vibration could help users determine which mode it's in.\n",
      "\n",
      "Source: Rumor\n",
      "Text: The iPhone 15 might be a little dull on the outside:\n",
      "We could be in for a muted iPhone color selection this year. YouTuber Jon Rettinger has gotten his hands on dummy units in what appear to be the iPhone 15 and 15 Pro’s launch colors. Those are black, white, light blue, light yellow, and a soft pink for the 15, while the 15 Pro could come in blue, dark gray, light gray, and white.\n",
      "\n"
     ]
    }
   ],
   "source": [
    "response = pinecone_index.query(vector=query_emb, namespace=\"direct\", top_k=2, include_metadata=True)\n",
    "\n",
    "for match in response['matches']:\n",
    "  print(\"Source:\", match['metadata']['source'])\n",
    "  print(\"Text:\", match['metadata']['text'])\n",
    "  print()\n",
    "\n",
    "formatted_context = \"\"\n",
    "for match in response['matches']:\n",
    "  formatted_context += match['metadata']['text'] + \"\\n\\n\""
   ]
  },
  {
   "cell_type": "markdown",
   "metadata": {},
   "source": [
    "Hmm now we're mixing announcements with rumors, but let's see what happens."
   ]
  },
  {
   "cell_type": "code",
   "execution_count": 167,
   "metadata": {},
   "outputs": [
    {
     "name": "stdout",
     "output_type": "stream",
     "text": [
      "Prompt:\n",
      "Use the following pieces of context to answer the question at the end. If you don't know the answer, just say that you don't know, don't try to make up an answer.\n",
      "\n",
      "More evidence points toward an action button on the iPhone 15 Pro:\n",
      "As spotted by 9to5Mac, the iOS 17 beta 7 has a new haptic feedback pattern that makes the “phone vibrate more prominently” to signal when silent mode is on or off.\n",
      "That would make sense if Apple ends up replacing the mute switch with a solid-state action button, as the vibration could help users determine which mode it's in.\n",
      "\n",
      "The iPhone 15 might be a little dull on the outside:\n",
      "We could be in for a muted iPhone color selection this year. YouTuber Jon Rettinger has gotten his hands on dummy units in what appear to be the iPhone 15 and 15 Pro’s launch colors. Those are black, white, light blue, light yellow, and a soft pink for the 15, while the 15 Pro could come in blue, dark gray, light gray, and white.\n",
      "\n",
      "\n",
      "\n",
      "Question: When the iphone 15 is released, is it supposed to still have a mute button?\n",
      "Helpful Answer:\n",
      "\n",
      "\n",
      "Response:\n",
      "Based on the given context, it is possible that the iPhone 15 might not have a physical mute switch. It suggests that Apple may replace it with a solid-state action button. However, the exact details about the mute button on the iPhone 15 cannot be determined with certainty based on this information alone.\n"
     ]
    }
   ],
   "source": [
    "qa_prompt =  qa_template.format(context=formatted_context, question=query_str)\n",
    "print(\"Prompt:\")\n",
    "print(qa_prompt)\n",
    "\n",
    "response = openai.ChatCompletion.create(\n",
    "  model=\"gpt-3.5-turbo\",\n",
    "  messages=[{\"role\": \"user\", \"content\": qa_prompt}]\n",
    ")\n",
    "\n",
    "print(\"\\n\\nResponse:\")\n",
    "print(response['choices'][0]['message']['content'])"
   ]
  },
  {
   "cell_type": "markdown",
   "metadata": {},
   "source": [
    "A little better, but doesn't really instill confidence. Let's try a different way."
   ]
  },
  {
   "cell_type": "markdown",
   "metadata": {},
   "source": [
    "### Alternate approach -- summaries"
   ]
  },
  {
   "cell_type": "code",
   "execution_count": 153,
   "metadata": {},
   "outputs": [
    {
     "data": {
      "text/plain": [
       "[Document(page_content=\"In September, Apple is widely expected to reveal its iPhone 15 lineup of flagship smartphones. Like last year, 2023’s range is expected to consist of four models: the base iPhone 15, an iPhone 15 Max, an iPhone 15 Pro, and an iPhone 15 Pro Max. There’s a chance that the latter device might be branded as the iPhone 15 Ultra, although a more recent report suggests this branding might not be used until 2024.\\n2023 is shaping up to be an interesting year for Apple’s bestselling device. Rumors suggest the company could finally make the switch from Lightning to USB-C while the Dynamic Island, which was exclusive to the Pro models in 2022, might trickle down to the non-Pro iPhone 15 and iPhone 15 Max.\\nRead on for all our coverage of the latest leaks and rumors about this year’s iPhones.\\n\\n\\nThe iPhone 15 might be a little dull on the outside:\\nWe could be in for a muted iPhone color selection this year. YouTuber Jon Rettinger has gotten his hands on dummy units in what appear to be the iPhone 15 and 15 Pro’s launch colors. Those are black, white, light blue, light yellow, and a soft pink for the 15, while the 15 Pro could come in blue, dark gray, light gray, and white.\\n\\n\\nPastel iPhones, titanium frames, and production issues, oh my:\\nThis post on X (formerly Twitter) could show the colors for the standard iPhone 15 — at least, Apple analyst Ming-Chi Kuo lists similar colors in a blog post on Medium.\\nKuo also corroborates the oft-rumored titanium frame for the 15 Pro phones, which may have contributed to production issues. He also mentions a possible iPhone 15 Pro gray color, which has been rumored recently.\\n\\n\\nThis might be the iPhone 15’s USB-C port:\\nApple said last year it will bring USB-C to the iPhone, and now alleged pictures of the iPhone 15’s USB-C port hint at light blue and green colors for Apple’s new non-Pro phones, according to leaker Majin Bu (via AppleInsider). The images, which were shared on X (formerly Twitter) this morning, show three naked USB-C modules in the two colors, as well as a dark, black shade. In addition, Majin Bu shared pictures of somewhat crude mock-ups of the phone, including one with an apparently off-center hole for the USB-C port.\\nMajin Bu later clarified that the existence of a green USB-C port doesn’t mean there will actually be a green iPhone at launch, guessing Apple will release it in the spring, something the company’s done with lighter colors for a few years now. \\n\\n\\nNo gold — but maybe gray:\\n9to5Mac reports that the iPhone 15 Pro won’t come in a gold option. Instead, the publication says you can expect space black, silver, a new gray that “embraces the natural color of titanium,” and a dark blue. There apparently won’t be a red.\\nUpdate August 24th, 6:07PM ET: 9to5Mac posted images of what appears to be the new “Titan Gray” color for the iPhone 15 Pro. I think it looks really nice.\\n9to5Mac expects the iPhone 15 non-Pro to come in black, green, blue, yellow, and pink.\\n\\n\\nMore evidence points toward an action button on the iPhone 15 Pro:\\nAs spotted by 9to5Mac, the iOS 17 beta 7 has a new haptic feedback pattern that makes the “phone vibrate more prominently” to signal when silent mode is on or off.\\nThat would make sense if Apple ends up replacing the mute switch with a solid-state action button, as the vibration could help users determine which mode it's in.\\n\\n\\nThe iPhone 15 might have faster charging speeds:\\nApple is set to introduce the iPhone 15 in the next few weeks, and the device’s long-rumored transition from Lightning to USB-C may provide a boost to its charging speed. According to 9to5Mac, some of the new iPhone 15 models will support charging up to 35W, compared to the 27W speeds that the current iPhone 14 Pro is limited to.\\nApple analyst Ming-Chi Kuo made similar predictions last year, claiming that Apple’s supply chain indicated the company would ditch Lightning in favor of USB-C in 2023. According to Kuo, the switch would enable faster charging speeds for iPhone 15 Pro models, but the feature may only be supported via Apple-certified cables. Apple stopped bundling its iPhones with power adapters back in 2020 to try and combat e-waste, so the company may instead recommend that customers purchase the 35W dual USB-C charger it released last year, or the 30W USB-C charger that’s designed for the MacBook Air if it isn’t planning to sell a dedicated iPhone 15 charger.\\n\\n\\nInside the arrangement that helps Apple keep its edge in chips:\\nThe Information reports that in Apple's deal with TSMC, the costs of defective chips are eaten by the chip manufacturer instead of Apple, its biggest customer. It's a boon to Apple over competitions as it moves forward using new 3nm technology that has lower production yields.\\nApple’s also paying more than ever for the chips. That might be why there’s a continued split on new iPhones, with the top chips going to the most expensive models.\\n\\n\\niPhone 15 Pro might get a titanium frame, thinner bezels, and a price hike:\\nSome big changes are expected to come to this year’s iPhone 15 Pro lineup — but they might come alongside a price hike, too. In Bloomberg this morning, reporter Mark Gurman confirmed a handful of details that have been floating around all year about what to expect when the next iPhone lineup is announced in just over a month.\\nThe new Pro models will both come with titanium frames, instead of stainless steel, making them stronger and lighter, according to Gurman. Their screens will also have thinner bezels, thanks to a new display technology, shrinking the size of the black border by about a third. (Earlier leaks show what that might look like.) And as previously reported, expect the mute switch to be swapped out for a customizable button and the Lightning port to be replaced by USB-C.\\n\\n\\nThe iPhone 15 Pro’s rumored action button sounds pretty useful:\\nThe upcoming iPhone 15 Pro and Pro Max are expected to come with an action button — similar to the one on the Apple Watch Ultra — that replaces the device’s ring/silent switch. But now, we have a better idea of what it might be able to do.\\nAs spotted by MacRumors, code in the iOS 17 beta 4 suggests you can program nine different functions into the action button, potentially allowing you to quickly access the Camera app, turn on the flashlight, launch the Translate app, and more.\\n\\n\\nApple’s iPhone 15 Pro and Pro Max models could be more expensive:\\nAccording to a new report by Bloomberg, Apple is allegedly planning to hike the price of its upcoming iPhone 15 Pro and Pro Max models in a bid to increase revenue during a projected slump in smartphone sales.\\nThe publication claims that Apple has a target to produce around 85 million iPhone 15 units this year, which isn’t far off the 90 million iPhone 14 units the company is said to have requested from its suppliers last year. Essentially, Apple is hoping it can produce a similar number of devices but keep its revenue high (in spite of things like ongoing inflation and lower demand for consumer tech) by increasing the price of its more expensive iPhone models, according to “people familiar with the matter.”\", metadata={'source': 'Rumor'}),\n",
       " Document(page_content='iPhone 15 event: all the news on Apple’s new phones\\n\\nWhile the iPhone 15 was undoubtedly the focus of Apple’s September 12th event, we also saw new AirPods Pro (second-generation) earbuds with a USB-C case plus two new updates to its watch line with the Apple Watch Series 9 and Apple Watch Ultra 2 with new processors inside.\\nThe iPhone 15 lineup’s most significant addition is a new USB-C port, while each model also comes with the Dynamic Island. The iPhone 15 Pro and iPhone 15 Pro Max added an Action Button that replaces the mute toggle to go with new titanium bodies, ultra-thin bezels, and a higher starting price.\\nApple also announced the new iOS 17 software update will be released on Monday, September 18th, and macOS Sonoma is coming on September 26th. New “FineWoven” accessories replaced the old leather cases, and its Emergency SOS via satellite feature can now cover car problems, too, thanks to a new partnership with AAA.\\nYou can catch up on all the latest news from Apple’s September event in the stream below.\\n\\n\\nApple officially announced the new iPhone 15 lineup at its Wonderlust event, which will go up for preorder on September 15th and ship a week later on September 22nd. Much like last year, there’s a baseline iPhone 15, a larger iPhone 15 Plus, and a pair of Pro models known as the iPhone 15 Pro and iPhone 15 Pro Max. But while the expected processor bump to a new A17 Pro Bionic chip is here for the 15 Pro and 15 Pro Max (the standard 15 and 15 Plus get last year’s A16 Bionic), what’s vastly different this time around is the presence of a USB-C charging / data port and the inclusion of Dynamic Island on all new models.\\nWhile we still have to see how all these new iPhones shape up in our upcoming reviews, early adopters will have a chance to put in preorders beginning September 15th. If you’re stoked enough by the changes Apple made this year to warrant a day-one purchase, below is a breakdown of the various iPhone 15 models and links to Apple’s pricing and configuration details. We’ll update this post with more info once preorders officially begin and other retailers / carriers have more information.\\n\\n\\nThe iPhone 15 Pro and Pro Max will let you film spatial video you can watch on the Vision Pro\\nThe newly announced iPhone 15 Pro and iPhone 15 Pro Max will soon let you capture “spatial video” that you can watch on the forthcoming Apple Vision Pro headset.:\\nThe new phones will be able to use the main and ultrawide cameras to “create a three-dimensional video,” Apple SVP Greg Joswiak said during Tuesday’s Wonderlust event. You’ll then be able to watch the video captured from those cameras on the Apple Vision Pro, which the company is still planning to release in early 2024.\\n\\n\\nApple’s new USB-C iPhone cables and dongles are predictably expensive:\\nApple just made a lot of people’s Lightning cables and accessories suddenly redundant by introducing the new iPhone 15, 15 Plus, 15 Pro, and 15 Pro Max. Four phones, not a Lightning port in sight — Apple is all in on USB-C.\\nTo make the transition easier, Apple is now selling a bunch of predictably expensive new cables and dongles. Starting with the one you’re almost certainly going to need to buy: the USB-C to Lightning Adapter, a $29.99 dongle into which you plug your Lightning device or cable and then plug the dongle into your new phone.\\n\\n\\niPhone 15 Pro and Pro Max hands-on:\\nWe’ve just had our first chance to check out the new iPhone 15 Pro and Pro Max, which Apple just announced at its annual fall event in Cupertino. There are lots of new things about the devices — camera upgrades, the new A17 Bionic chip — but there are three things about the phone you notice right away. The thing is made of titanium; there’s an Action Button on the left side; and that’s a USB-C port on the bottom. Oh, and a fourth thing: the sides of the phones on display were instantly and immediately covered in fingerprints.\\nAt first glance, the 15 Pro looks just like the iPhones Pro before it. But pick one up, and the lighter weight due to the titanium frame is obvious, as are the curved edges. It’s just nicer to hold. Apple says the titanium has allowed it to make the sides of the device thinner, which certainly makes the display look bigger than usual, but it’s the same 6.1 inches on the Pro and 6.7 inches on the Pro Max.\\n\\n\\nResident Evil 4 remake is coming to the iPhone 15 Pro:\\nThe big Apple iPhone event did contain some tasty morsels for us gamers, as Apple announced that the Resident Evil 4 remake, Resident Evil Village, Death Stranding, Assassin’s Creed Mirage, and The Division Resurgence would all be coming to the iPhone 15 Pro later this year and in early 2024.\\nThe advent of cloud gaming makes playing the huge releases reserved for PC and consoles on mobile possible. But because the games are being streamed to the phone, players have to rely on internet speeds to play. \\n\\n\\nA first look at the new iPhone 15 with USB-C and a big camera upgrade:\\nApple has just announced its new iPhone 15 models, and the big news is USB-C, a camera upgrade, the addition of the Dynamic Island, and even some improvements to the display.\\nWe’ve just managed to get a first look at the iPhone 15 and 15 Plus, and the new colors look great. The matte back and rounded sides are noticeably nicer to hold than the prior models, and it’s essentially the great parts of the iPhone 14 Pro in a lighter, nice-to-hold casing.\\n\\n\\nApple’s cheapest iPhone 15 Pro Max now costs more — but also has double the storage:\\nIt might cost you a little more to buy an iPhone 15 Pro Max this year. The new phone has undergone some big changes, and with them comes a new starting price of $1,199 for a 256GB model. Last year, you could get a new iPhone 14 Pro Max for $1,099, but that came with 128GB of storage.\\nThe iPhone 15 Pro’s starting price will remain $999, and Apple will release both phones on September 22nd, with preorders starting this Friday.\\n\\n\\nHere’s how the iPhone 15 Pro’s Action Button works:\\nApple revealed the new iPhone 15 Pro today, and there’s a brand-new button on the side that can be customized to trigger a specific function. This new “Action Button” is similar to the one introduced on the Apple Watch Ultra, which can activate workouts, among other abilities.\\nThe Action Button, which replaces the ring / vibrate switch, can be programmed to do things like activating the camera, turning on the flashlight, starting a Voice Memo, opening a note, switching Focus modes, or running your own custom shortcuts. You can also set accessibility options like Magnifier.\\n\\n\\nApple iPhone 15 Pro and Pro Max announced with titanium bodies and an Action Button:\\nApple just announced its new high-end iPhones: the iPhone 15 Pro and 15 Pro Max. They’re made of titanium, they have Action Buttons, and Apple promises they’re the most powerful smartphones Apple has ever made. The 15 Pro starts at $999 with 128GB of storage, and the Pro Max at $1,199 with 256GB of storage. Both will be available for preorder this Friday and on sale September 22nd.\\nThis year’s Pro has a 6.1-inch screen, and the Pro Max has a 6.7-inch display — same as the new iPhone 15 and 15 Plus. Both are powered by the A17 Pro chip, which Apple says has the fastest performance in any smartphone and can even challenge some high-end PCs. Along with a redesigned GPU, Apple seems to think these devices could be poised to level up the kinds of games you can play on your phone. (Of course, Apple likes to talk a lot about high-end gaming, and the results... don’t always keep up.)\\n\\n\\nApple announces iPhone 15 with USB-C, a camera upgrade, and the Dynamic Island:\\nApple has just announced the iPhone 15 and 15 Plus, and the big news is a USB-C port. Finally! We’ve been waiting for the day that the iPhone would switch to the widely used USB-C standard instead of Apple’s proprietary Lightning connector. Apple confirmed last year that it would make the change to USB-C to comply with the European Union’s upcoming regulations, and the iPhone 15 is now the first iPhone to make the switch.\\nThe iPhone 15 is priced starting at $799 for a 128GB model, and the iPhone 15 Plus starts at $899 for a 128GB version. Both will be available on September 22nd, with preorders starting this Friday.\\n', metadata={'source': 'Announcement'})]"
      ]
     },
     "execution_count": 153,
     "metadata": {},
     "output_type": "execute_result"
    }
   ],
   "source": [
    "documents"
   ]
  },
  {
   "cell_type": "markdown",
   "metadata": {},
   "source": [
    "Let's chunk our documents using a larger chunk size"
   ]
  },
  {
   "cell_type": "code",
   "execution_count": 154,
   "metadata": {},
   "outputs": [
    {
     "data": {
      "text/plain": [
       "[Document(page_content='In September, Apple is widely expected to reveal its iPhone 15 lineup of flagship smartphones. Like last year, 2023’s range is expected to consist of four models: the base iPhone 15, an iPhone 15 Max, an iPhone 15 Pro, and an iPhone 15 Pro Max. There’s a chance that the latter device might be branded as the iPhone 15 Ultra, although a more recent report suggests this branding might not be used until 2024.\\n2023 is shaping up to be an interesting year for Apple’s bestselling device. Rumors suggest the company could finally make the switch from Lightning to USB-C while the Dynamic Island, which was exclusive to the Pro models in 2022, might trickle down to the non-Pro iPhone 15 and iPhone 15 Max.\\nRead on for all our coverage of the latest leaks and rumors about this year’s iPhones.\\n\\n\\nThe iPhone 15 might be a little dull on the outside:\\nWe could be in for a muted iPhone color selection this year. YouTuber Jon Rettinger has gotten his hands on dummy units in what appear to be the iPhone 15 and 15 Pro’s launch colors. Those are black, white, light blue, light yellow, and a soft pink for the 15, while the 15 Pro could come in blue, dark gray, light gray, and white.\\n\\n\\nPastel iPhones, titanium frames, and production issues, oh my:\\nThis post on X (formerly Twitter) could show the colors for the standard iPhone 15 — at least, Apple analyst Ming-Chi Kuo lists similar colors in a blog post on Medium.\\nKuo also corroborates the oft-rumored titanium frame for the 15 Pro phones, which may have contributed to production issues. He also mentions a possible iPhone 15 Pro gray color, which has been rumored recently.', metadata={'source': 'Rumor'}),\n",
       " Document(page_content=\"This might be the iPhone 15’s USB-C port:\\nApple said last year it will bring USB-C to the iPhone, and now alleged pictures of the iPhone 15’s USB-C port hint at light blue and green colors for Apple’s new non-Pro phones, according to leaker Majin Bu (via AppleInsider). The images, which were shared on X (formerly Twitter) this morning, show three naked USB-C modules in the two colors, as well as a dark, black shade. In addition, Majin Bu shared pictures of somewhat crude mock-ups of the phone, including one with an apparently off-center hole for the USB-C port.\\nMajin Bu later clarified that the existence of a green USB-C port doesn’t mean there will actually be a green iPhone at launch, guessing Apple will release it in the spring, something the company’s done with lighter colors for a few years now. \\n\\n\\nNo gold — but maybe gray:\\n9to5Mac reports that the iPhone 15 Pro won’t come in a gold option. Instead, the publication says you can expect space black, silver, a new gray that “embraces the natural color of titanium,” and a dark blue. There apparently won’t be a red.\\nUpdate August 24th, 6:07PM ET: 9to5Mac posted images of what appears to be the new “Titan Gray” color for the iPhone 15 Pro. I think it looks really nice.\\n9to5Mac expects the iPhone 15 non-Pro to come in black, green, blue, yellow, and pink.\\n\\n\\nMore evidence points toward an action button on the iPhone 15 Pro:\\nAs spotted by 9to5Mac, the iOS 17 beta 7 has a new haptic feedback pattern that makes the “phone vibrate more prominently” to signal when silent mode is on or off.\\nThat would make sense if Apple ends up replacing the mute switch with a solid-state action button, as the vibration could help users determine which mode it's in.\", metadata={'source': 'Rumor'}),\n",
       " Document(page_content=\"The iPhone 15 might have faster charging speeds:\\nApple is set to introduce the iPhone 15 in the next few weeks, and the device’s long-rumored transition from Lightning to USB-C may provide a boost to its charging speed. According to 9to5Mac, some of the new iPhone 15 models will support charging up to 35W, compared to the 27W speeds that the current iPhone 14 Pro is limited to.\\nApple analyst Ming-Chi Kuo made similar predictions last year, claiming that Apple’s supply chain indicated the company would ditch Lightning in favor of USB-C in 2023. According to Kuo, the switch would enable faster charging speeds for iPhone 15 Pro models, but the feature may only be supported via Apple-certified cables. Apple stopped bundling its iPhones with power adapters back in 2020 to try and combat e-waste, so the company may instead recommend that customers purchase the 35W dual USB-C charger it released last year, or the 30W USB-C charger that’s designed for the MacBook Air if it isn’t planning to sell a dedicated iPhone 15 charger.\\n\\n\\nInside the arrangement that helps Apple keep its edge in chips:\\nThe Information reports that in Apple's deal with TSMC, the costs of defective chips are eaten by the chip manufacturer instead of Apple, its biggest customer. It's a boon to Apple over competitions as it moves forward using new 3nm technology that has lower production yields.\\nApple’s also paying more than ever for the chips. That might be why there’s a continued split on new iPhones, with the top chips going to the most expensive models.\", metadata={'source': 'Rumor'}),\n",
       " Document(page_content='iPhone 15 Pro might get a titanium frame, thinner bezels, and a price hike:\\nSome big changes are expected to come to this year’s iPhone 15 Pro lineup — but they might come alongside a price hike, too. In Bloomberg this morning, reporter Mark Gurman confirmed a handful of details that have been floating around all year about what to expect when the next iPhone lineup is announced in just over a month.\\nThe new Pro models will both come with titanium frames, instead of stainless steel, making them stronger and lighter, according to Gurman. Their screens will also have thinner bezels, thanks to a new display technology, shrinking the size of the black border by about a third. (Earlier leaks show what that might look like.) And as previously reported, expect the mute switch to be swapped out for a customizable button and the Lightning port to be replaced by USB-C.\\n\\n\\nThe iPhone 15 Pro’s rumored action button sounds pretty useful:\\nThe upcoming iPhone 15 Pro and Pro Max are expected to come with an action button — similar to the one on the Apple Watch Ultra — that replaces the device’s ring/silent switch. But now, we have a better idea of what it might be able to do.\\nAs spotted by MacRumors, code in the iOS 17 beta 4 suggests you can program nine different functions into the action button, potentially allowing you to quickly access the Camera app, turn on the flashlight, launch the Translate app, and more.', metadata={'source': 'Rumor'}),\n",
       " Document(page_content='Apple’s iPhone 15 Pro and Pro Max models could be more expensive:\\nAccording to a new report by Bloomberg, Apple is allegedly planning to hike the price of its upcoming iPhone 15 Pro and Pro Max models in a bid to increase revenue during a projected slump in smartphone sales.\\nThe publication claims that Apple has a target to produce around 85 million iPhone 15 units this year, which isn’t far off the 90 million iPhone 14 units the company is said to have requested from its suppliers last year. Essentially, Apple is hoping it can produce a similar number of devices but keep its revenue high (in spite of things like ongoing inflation and lower demand for consumer tech) by increasing the price of its more expensive iPhone models, according to “people familiar with the matter.”', metadata={'source': 'Rumor'}),\n",
       " Document(page_content='iPhone 15 event: all the news on Apple’s new phones\\n\\nWhile the iPhone 15 was undoubtedly the focus of Apple’s September 12th event, we also saw new AirPods Pro (second-generation) earbuds with a USB-C case plus two new updates to its watch line with the Apple Watch Series 9 and Apple Watch Ultra 2 with new processors inside.\\nThe iPhone 15 lineup’s most significant addition is a new USB-C port, while each model also comes with the Dynamic Island. The iPhone 15 Pro and iPhone 15 Pro Max added an Action Button that replaces the mute toggle to go with new titanium bodies, ultra-thin bezels, and a higher starting price.\\nApple also announced the new iOS 17 software update will be released on Monday, September 18th, and macOS Sonoma is coming on September 26th. New “FineWoven” accessories replaced the old leather cases, and its Emergency SOS via satellite feature can now cover car problems, too, thanks to a new partnership with AAA.\\nYou can catch up on all the latest news from Apple’s September event in the stream below.', metadata={'source': 'Announcement'}),\n",
       " Document(page_content='Apple officially announced the new iPhone 15 lineup at its Wonderlust event, which will go up for preorder on September 15th and ship a week later on September 22nd. Much like last year, there’s a baseline iPhone 15, a larger iPhone 15 Plus, and a pair of Pro models known as the iPhone 15 Pro and iPhone 15 Pro Max. But while the expected processor bump to a new A17 Pro Bionic chip is here for the 15 Pro and 15 Pro Max (the standard 15 and 15 Plus get last year’s A16 Bionic), what’s vastly different this time around is the presence of a USB-C charging / data port and the inclusion of Dynamic Island on all new models.\\nWhile we still have to see how all these new iPhones shape up in our upcoming reviews, early adopters will have a chance to put in preorders beginning September 15th. If you’re stoked enough by the changes Apple made this year to warrant a day-one purchase, below is a breakdown of the various iPhone 15 models and links to Apple’s pricing and configuration details. We’ll update this post with more info once preorders officially begin and other retailers / carriers have more information.\\n\\n\\nThe iPhone 15 Pro and Pro Max will let you film spatial video you can watch on the Vision Pro\\nThe newly announced iPhone 15 Pro and iPhone 15 Pro Max will soon let you capture “spatial video” that you can watch on the forthcoming Apple Vision Pro headset.:\\nThe new phones will be able to use the main and ultrawide cameras to “create a three-dimensional video,” Apple SVP Greg Joswiak said during Tuesday’s Wonderlust event. You’ll then be able to watch the video captured from those cameras on the Apple Vision Pro, which the company is still planning to release in early 2024.', metadata={'source': 'Announcement'}),\n",
       " Document(page_content='Apple’s new USB-C iPhone cables and dongles are predictably expensive:\\nApple just made a lot of people’s Lightning cables and accessories suddenly redundant by introducing the new iPhone 15, 15 Plus, 15 Pro, and 15 Pro Max. Four phones, not a Lightning port in sight — Apple is all in on USB-C.\\nTo make the transition easier, Apple is now selling a bunch of predictably expensive new cables and dongles. Starting with the one you’re almost certainly going to need to buy: the USB-C to Lightning Adapter, a $29.99 dongle into which you plug your Lightning device or cable and then plug the dongle into your new phone.\\n\\n\\niPhone 15 Pro and Pro Max hands-on:\\nWe’ve just had our first chance to check out the new iPhone 15 Pro and Pro Max, which Apple just announced at its annual fall event in Cupertino. There are lots of new things about the devices — camera upgrades, the new A17 Bionic chip — but there are three things about the phone you notice right away. The thing is made of titanium; there’s an Action Button on the left side; and that’s a USB-C port on the bottom. Oh, and a fourth thing: the sides of the phones on display were instantly and immediately covered in fingerprints.\\nAt first glance, the 15 Pro looks just like the iPhones Pro before it. But pick one up, and the lighter weight due to the titanium frame is obvious, as are the curved edges. It’s just nicer to hold. Apple says the titanium has allowed it to make the sides of the device thinner, which certainly makes the display look bigger than usual, but it’s the same 6.1 inches on the Pro and 6.7 inches on the Pro Max.', metadata={'source': 'Announcement'}),\n",
       " Document(page_content='Resident Evil 4 remake is coming to the iPhone 15 Pro:\\nThe big Apple iPhone event did contain some tasty morsels for us gamers, as Apple announced that the Resident Evil 4 remake, Resident Evil Village, Death Stranding, Assassin’s Creed Mirage, and The Division Resurgence would all be coming to the iPhone 15 Pro later this year and in early 2024.\\nThe advent of cloud gaming makes playing the huge releases reserved for PC and consoles on mobile possible. But because the games are being streamed to the phone, players have to rely on internet speeds to play. \\n\\n\\nA first look at the new iPhone 15 with USB-C and a big camera upgrade:\\nApple has just announced its new iPhone 15 models, and the big news is USB-C, a camera upgrade, the addition of the Dynamic Island, and even some improvements to the display.\\nWe’ve just managed to get a first look at the iPhone 15 and 15 Plus, and the new colors look great. The matte back and rounded sides are noticeably nicer to hold than the prior models, and it’s essentially the great parts of the iPhone 14 Pro in a lighter, nice-to-hold casing.\\n\\n\\nApple’s cheapest iPhone 15 Pro Max now costs more — but also has double the storage:\\nIt might cost you a little more to buy an iPhone 15 Pro Max this year. The new phone has undergone some big changes, and with them comes a new starting price of $1,199 for a 256GB model. Last year, you could get a new iPhone 14 Pro Max for $1,099, but that came with 128GB of storage.\\nThe iPhone 15 Pro’s starting price will remain $999, and Apple will release both phones on September 22nd, with preorders starting this Friday.', metadata={'source': 'Announcement'}),\n",
       " Document(page_content='Here’s how the iPhone 15 Pro’s Action Button works:\\nApple revealed the new iPhone 15 Pro today, and there’s a brand-new button on the side that can be customized to trigger a specific function. This new “Action Button” is similar to the one introduced on the Apple Watch Ultra, which can activate workouts, among other abilities.\\nThe Action Button, which replaces the ring / vibrate switch, can be programmed to do things like activating the camera, turning on the flashlight, starting a Voice Memo, opening a note, switching Focus modes, or running your own custom shortcuts. You can also set accessibility options like Magnifier.\\n\\n\\nApple iPhone 15 Pro and Pro Max announced with titanium bodies and an Action Button:\\nApple just announced its new high-end iPhones: the iPhone 15 Pro and 15 Pro Max. They’re made of titanium, they have Action Buttons, and Apple promises they’re the most powerful smartphones Apple has ever made. The 15 Pro starts at $999 with 128GB of storage, and the Pro Max at $1,199 with 256GB of storage. Both will be available for preorder this Friday and on sale September 22nd.\\nThis year’s Pro has a 6.1-inch screen, and the Pro Max has a 6.7-inch display — same as the new iPhone 15 and 15 Plus. Both are powered by the A17 Pro chip, which Apple says has the fastest performance in any smartphone and can even challenge some high-end PCs. Along with a redesigned GPU, Apple seems to think these devices could be poised to level up the kinds of games you can play on your phone. (Of course, Apple likes to talk a lot about high-end gaming, and the results... don’t always keep up.)', metadata={'source': 'Announcement'}),\n",
       " Document(page_content='Apple announces iPhone 15 with USB-C, a camera upgrade, and the Dynamic Island:\\nApple has just announced the iPhone 15 and 15 Plus, and the big news is a USB-C port. Finally! We’ve been waiting for the day that the iPhone would switch to the widely used USB-C standard instead of Apple’s proprietary Lightning connector. Apple confirmed last year that it would make the change to USB-C to comply with the European Union’s upcoming regulations, and the iPhone 15 is now the first iPhone to make the switch.\\nThe iPhone 15 is priced starting at $799 for a 128GB model, and the iPhone 15 Plus starts at $899 for a 128GB version. Both will be available on September 22nd, with preorders starting this Friday.', metadata={'source': 'Announcement'})]"
      ]
     },
     "execution_count": 154,
     "metadata": {},
     "output_type": "execute_result"
    }
   ],
   "source": [
    "# create large chunks of source text\n",
    "\n",
    "large_chunk_text_splitter = RecursiveCharacterTextSplitter(chunk_size=2000,\n",
    "                                               chunk_overlap=100,\n",
    "                                               separators=[\"\\n\\n\", \"\\n\", \".\", \" \", \"\"])\n",
    "large_chunks = large_chunk_text_splitter.split_documents(documents)\n",
    "large_chunks"
   ]
  },
  {
   "cell_type": "markdown",
   "metadata": {},
   "source": [
    "Then for each large chunk, let's create a summarized version. "
   ]
  },
  {
   "cell_type": "code",
   "execution_count": 128,
   "metadata": {},
   "outputs": [],
   "source": [
    "from langchain import PromptTemplate\n",
    "\n",
    "create_summary_prompt = \"\"\"Create a short summary of the block of text below.\n",
    "\n",
    "Text:\n",
    "------------------------------------------\n",
    "{text}\n",
    "------------------------------------------\n",
    "\n",
    "Your summary:\"\"\"\n",
    "prompt_template = PromptTemplate(input_variables=[\"text\"], template=create_summary_prompt)\n"
   ]
  },
  {
   "cell_type": "code",
   "execution_count": 155,
   "metadata": {},
   "outputs": [
    {
     "name": "stdout",
     "output_type": "stream",
     "text": [
      "--- Summarizing chunk: -------------\n",
      "In September, Apple is widely expected t... (1622) total length\n",
      "--- Summary: -----------------------\n",
      "In September, Apple is expected to announce the iPhone 15 lineup consisting of four models: iPhone 15, iPhone 15 Max, iPhone 15 Pro, and iPhone 15 Pro Max or Ultra. There are rumors of a switch from Lightning to USB-C and the possibility of the Dynamic Island feature being included in the non-Pro models. There may be a limited color selection for the iPhone 15 and 15 Pro, with pastel options and titanium frames rumored. Production issues have been reported due to the use of titanium frames. \n",
      "\n",
      "--- Summarizing chunk: -------------\n",
      "This might be the iPhone 15’s USB-C port... (1720) total length\n",
      "--- Summary: -----------------------\n",
      "The rumored iPhone 15 may have a USB-C port in light blue and green colors, according to leaked images. However, the presence of a green USB-C port does not necessarily mean there will be a green iPhone at launch. The iPhone 15 Pro is expected to come in space black, silver, a new gray color resembling titanium, and dark blue, with no gold or red option. The iPhone 15 non-Pro may be available in black, green, blue, yellow, and pink. There is also evidence suggesting that the iPhone 15 Pro may have an action button replacing the mute switch. \n",
      "\n",
      "--- Summarizing chunk: -------------\n",
      "The iPhone 15 might have faster charging... (1542) total length\n",
      "--- Summary: -----------------------\n",
      "The upcoming iPhone 15 may have faster charging speeds due to its rumored transition from Lightning to USB-C. Some models of the iPhone 15 are expected to support charging up to 35W compared to the current limit of 27W on the iPhone 14 Pro. Apple analyst Ming-Chi Kuo predicted this change last year, stating that it would enable faster charging speeds but may only work with Apple-certified cables. Apple's arrangement with chip manufacturer TSMC allows the costs of defective chips to be covered by TSMC instead of Apple, giving Apple an advantage as it utilizes new 3nm technology. Apple is also reportedly paying more for these chips, which may explain the split in chip distribution among different iPhone models. \n",
      "\n",
      "--- Summarizing chunk: -------------\n",
      "iPhone 15 Pro might get a titanium frame... (1421) total length\n",
      "--- Summary: -----------------------\n",
      "The upcoming iPhone 15 Pro is rumored to have a titanium frame and thinner bezels, but it may also come with a price increase. The new Pro models will feature a customizable action button that can perform various functions. Additionally, the mute switch will be replaced by the action button and the Lightning port will be replaced by USB-C. \n",
      "\n",
      "--- Summarizing chunk: -------------\n",
      "Apple’s iPhone 15 Pro and Pro Max models... (783) total length\n",
      "--- Summary: -----------------------\n",
      "Apple is reportedly planning to increase the price of its iPhone 15 Pro and Pro Max models in an attempt to boost revenue during an anticipated decline in smartphone sales. The company aims to produce approximately 85 million units this year and hopes to maintain high revenue by raising the prices of its more expensive models. \n",
      "\n",
      "--- Summarizing chunk: -------------\n",
      "iPhone 15 event: all the news on Apple’s... (1029) total length\n",
      "--- Summary: -----------------------\n",
      "Apple's September 12th event showcased the new iPhone 15 lineup, which includes a new USB-C port and the Dynamic Island. The iPhone 15 Pro and iPhone 15 Pro Max also feature an Action Button, titanium bodies, ultra-thin bezels, and a higher price. Other announcements from the event include new AirPods Pro, updates to the Apple Watch line, the release of iOS 17 and macOS Sonoma, and new accessories and features such as \"FineWoven\" cases and Emergency SOS via satellite. \n",
      "\n",
      "--- Summarizing chunk: -------------\n",
      "Apple officially announced the new iPhon... (1695) total length\n",
      "--- Summary: -----------------------\n",
      "Apple has announced the iPhone 15 lineup, which will be available for pre-order on September 15th and ship on September 22nd. The lineup includes the baseline iPhone 15, iPhone 15 Plus, and the Pro models - iPhone 15 Pro and iPhone 15 Pro Max. The Pro models will feature a new A17 Pro Bionic chip, while the standard models will have the A16 Bionic chip. Notably, all new models will have a USB-C charging/data port and Dynamic Island. The iPhone 15 Pro and Pro Max will have the capability to capture spatial video, which can be viewed on the upcoming Apple Vision Pro headset set to release in early 2024. Preorders for the new iPhones will provide more information on pricing and configurations. \n",
      "\n",
      "--- Summarizing chunk: -------------\n",
      "Apple’s new USB-C iPhone cables and dong... (1594) total length\n",
      "--- Summary: -----------------------\n",
      "Apple has introduced four new iPhone models that all use USB-C instead of Lightning ports, rendering previous cables and accessories obsolete. To ease the transition, Apple is selling new costly cables and dongles, including a $29.99 USB-C to Lightning Adapter. The new iPhone 15 Pro and Pro Max models feature titanium frames, an Action Button, and a USB-C port at the bottom. The phones have lighter weight, curved edges, and thinner sides due to the titanium frame. The display sizes remain the same as previous models. \n",
      "\n",
      "--- Summarizing chunk: -------------\n",
      "Resident Evil 4 remake is coming to the ... (1603) total length\n",
      "--- Summary: -----------------------\n",
      "Apple announced at their recent iPhone event that several popular games including Resident Evil 4 remake and Assassin's Creed Mirage will be coming to the iPhone 15 Pro. These games will be playable on mobile due to the advent of cloud gaming, although players will need a reliable internet connection. Additionally, the new iPhone 15 models will feature a camera upgrade, USB-C, and improvements to the display. The cheapest version, the iPhone 15 Pro Max, will have double the storage but a higher starting price of $1,199. Both models will be released on September 22nd. \n",
      "\n",
      "--- Summarizing chunk: -------------\n",
      "Here’s how the iPhone 15 Pro’s Action Bu... (1607) total length\n",
      "--- Summary: -----------------------\n",
      "Apple has announced the new iPhone 15 Pro and Pro Max, which feature a customizable \"Action Button\" that can be programmed to activate various functions. The phones are made of titanium and are said to be the most powerful smartphones Apple has ever made. They start at $999 and $1,199 respectively, with preorders available this Friday and sales starting on September 22nd. Both phones have large displays, powered by the A17 Pro chip, and are touted for their gaming capabilities. \n",
      "\n",
      "--- Summarizing chunk: -------------\n",
      "Apple announces iPhone 15 with USB-C, a ... (703) total length\n",
      "--- Summary: -----------------------\n",
      "Apple has announced the iPhone 15 and 15 Plus, which will feature a USB-C port, a camera upgrade, and the Dynamic Island. The iPhone 15 is priced at $799 for a 128GB model and the iPhone 15 Plus starts at $899 for a 128GB version. Both phones will be available for preorders starting this Friday and will be released on September 22nd. \n",
      "\n"
     ]
    }
   ],
   "source": [
    "from langchain.docstore.document import Document\n",
    "\n",
    "summary_documents = []\n",
    "for doc in large_chunks:\n",
    "  to_summarize = doc.page_content\n",
    "  print(\"--- Summarizing chunk: -------------\")\n",
    "  print(f\"{to_summarize[0:40]}... ({len(to_summarize)}) total length\")\n",
    "  response = openai.ChatCompletion.create(\n",
    "    model=\"gpt-3.5-turbo\",\n",
    "    messages=[{\"role\": \"user\", \"content\": prompt_template.format(text=to_summarize)}]\n",
    "  )\n",
    "  summary = response['choices'][0]['message']['content']\n",
    "  summary_documents.append(Document(page_content=summary, metadata=doc.metadata))\n",
    "  print(\"--- Summary: -----------------------\")\n",
    "  print(summary, \"\\n\")\n"
   ]
  },
  {
   "cell_type": "markdown",
   "metadata": {},
   "source": [
    "Now let's chunk the summaries, and create embeddings for each chunk, and upload the embeddings to Pinecone in the \"summaries\" namespace.\n",
    "\n",
    "Note that we're going prepend each summary with either \"`Rumor:`\" or \"`Announcement:`\". This will help assist semantic search in distinguishing queries.\n"
   ]
  },
  {
   "cell_type": "code",
   "execution_count": 156,
   "metadata": {},
   "outputs": [
    {
     "data": {
      "text/plain": [
       "['Rumor: In September, Apple is expected to announce the iPhone 15 lineup consisting of four models: iPhone 15, iPhone 15 Max, iPhone 15 Pro, and iPhone 15 Pro Max or Ultra. There are rumors of a switch from Lightning to USB-C and the possibility of the Dynamic Island feature being included in the non-Pro models. There may be a limited color selection for the iPhone 15 and 15 Pro, with pastel options and titanium frames rumored. Production issues have been reported due to the use of titanium frames.',\n",
       " 'Rumor: The rumored iPhone 15 may have a USB-C port in light blue and green colors, according to leaked images. However, the presence of a green USB-C port does not necessarily mean there will be a green iPhone at launch. The iPhone 15 Pro is expected to come in space black, silver, a new gray color resembling titanium, and dark blue, with no gold or red option. The iPhone 15 non-Pro may be available in black, green, blue, yellow, and pink. There is also evidence suggesting that the iPhone 15 Pro may have an action button replacing the mute switch.',\n",
       " \"Rumor: The upcoming iPhone 15 may have faster charging speeds due to its rumored transition from Lightning to USB-C. Some models of the iPhone 15 are expected to support charging up to 35W compared to the current limit of 27W on the iPhone 14 Pro. Apple analyst Ming-Chi Kuo predicted this change last year, stating that it would enable faster charging speeds but may only work with Apple-certified cables. Apple's arrangement with chip manufacturer TSMC allows the costs of defective chips to be covered by TSMC instead of Apple, giving Apple an advantage as it utilizes new 3nm technology. Apple is also reportedly paying more for these chips, which may explain the split in chip distribution among different iPhone models.\",\n",
       " 'Rumor: The upcoming iPhone 15 Pro is rumored to have a titanium frame and thinner bezels, but it may also come with a price increase. The new Pro models will feature a customizable action button that can perform various functions. Additionally, the mute switch will be replaced by the action button and the Lightning port will be replaced by USB-C.',\n",
       " 'Rumor: Apple is reportedly planning to increase the price of its iPhone 15 Pro and Pro Max models in an attempt to boost revenue during an anticipated decline in smartphone sales. The company aims to produce approximately 85 million units this year and hopes to maintain high revenue by raising the prices of its more expensive models.',\n",
       " 'Announcement: Apple\\'s September 12th event showcased the new iPhone 15 lineup, which includes a new USB-C port and the Dynamic Island. The iPhone 15 Pro and iPhone 15 Pro Max also feature an Action Button, titanium bodies, ultra-thin bezels, and a higher price. Other announcements from the event include new AirPods Pro, updates to the Apple Watch line, the release of iOS 17 and macOS Sonoma, and new accessories and features such as \"FineWoven\" cases and Emergency SOS via satellite.',\n",
       " 'Announcement: Apple has announced the iPhone 15 lineup, which will be available for pre-order on September 15th and ship on September 22nd. The lineup includes the baseline iPhone 15, iPhone 15 Plus, and the Pro models - iPhone 15 Pro and iPhone 15 Pro Max. The Pro models will feature a new A17 Pro Bionic chip, while the standard models will have the A16 Bionic chip. Notably, all new models will have a USB-C charging/data port and Dynamic Island. The iPhone 15 Pro and Pro Max will have the capability to capture spatial video, which can be viewed on the upcoming Apple Vision Pro headset set to release in early 2024. Preorders for the new iPhones will provide more information on pricing and configurations.',\n",
       " 'Announcement: Apple has introduced four new iPhone models that all use USB-C instead of Lightning ports, rendering previous cables and accessories obsolete. To ease the transition, Apple is selling new costly cables and dongles, including a $29.99 USB-C to Lightning Adapter. The new iPhone 15 Pro and Pro Max models feature titanium frames, an Action Button, and a USB-C port at the bottom. The phones have lighter weight, curved edges, and thinner sides due to the titanium frame. The display sizes remain the same as previous models.',\n",
       " \"Announcement: Apple announced at their recent iPhone event that several popular games including Resident Evil 4 remake and Assassin's Creed Mirage will be coming to the iPhone 15 Pro. These games will be playable on mobile due to the advent of cloud gaming, although players will need a reliable internet connection. Additionally, the new iPhone 15 models will feature a camera upgrade, USB-C, and improvements to the display. The cheapest version, the iPhone 15 Pro Max, will have double the storage but a higher starting price of $1,199. Both models will be released on September 22nd.\",\n",
       " 'Announcement: Apple has announced the new iPhone 15 Pro and Pro Max, which feature a customizable \"Action Button\" that can be programmed to activate various functions. The phones are made of titanium and are said to be the most powerful smartphones Apple has ever made. They start at $999 and $1,199 respectively, with preorders available this Friday and sales starting on September 22nd. Both phones have large displays, powered by the A17 Pro chip, and are touted for their gaming capabilities.',\n",
       " 'Announcement: Apple has announced the iPhone 15 and 15 Plus, which will feature a USB-C port, a camera upgrade, and the Dynamic Island. The iPhone 15 is priced at $799 for a 128GB model and the iPhone 15 Plus starts at $899 for a 128GB version. Both phones will be available for preorders starting this Friday and will be released on September 22nd.']"
      ]
     },
     "execution_count": 156,
     "metadata": {},
     "output_type": "execute_result"
    }
   ],
   "source": [
    "to_embed = [f\"{doc.metadata['source']}: {doc.page_content}\" for doc in summary_documents]\n",
    "to_embed\n"
   ]
  },
  {
   "cell_type": "code",
   "execution_count": 157,
   "metadata": {},
   "outputs": [],
   "source": [
    "summary_embeddings = create_embeddings(to_embed)"
   ]
  },
  {
   "cell_type": "code",
   "execution_count": 158,
   "metadata": {},
   "outputs": [
    {
     "data": {
      "text/plain": [
       "{'upserted_count': 11}"
      ]
     },
     "execution_count": 158,
     "metadata": {},
     "output_type": "execute_result"
    }
   ],
   "source": [
    "to_upload = [{\n",
    "    'id': f\"item-{i}\",\n",
    "    'values': summary_embeddings[i],\n",
    "    'metadata': {\n",
    "      'source': summary_doc.metadata['source'],\n",
    "      'source_id': f\"{i}\",\n",
    "    }\n",
    "  } for i, summary_doc in enumerate(summary_documents)] # TODO pickup here, this currently expects two docs but now we have 6 chunks\n",
    "response = pinecone_index.upsert(vectors=to_upload, namespace=\"summaries\")\n",
    "response"
   ]
  },
  {
   "cell_type": "markdown",
   "metadata": {},
   "source": [
    "Now let's re-run our query and see what comes back. When we find a match, we're going to substitute the original source text in our prompt to answer the user's question."
   ]
  },
  {
   "cell_type": "code",
   "execution_count": 160,
   "metadata": {},
   "outputs": [
    {
     "name": "stdout",
     "output_type": "stream",
     "text": [
      "Source: Rumor\n",
      "Source ID: 3\n",
      "\n",
      "Original large context:\n",
      "iPhone 15 Pro might get a titanium frame, thinner bezels, and a price hike:\n",
      "Some big changes are expected to come to this year’s iPhone 15 Pro lineup — but they might come alongside a price hike, too. In Bloomberg this morning, reporter Mark Gurman confirmed a handful of details that have been floating around all year about what to expect when the next iPhone lineup is announced in just over a month.\n",
      "The new Pro models will both come with titanium frames, instead of stainless steel, making them stronger and lighter, according to Gurman. Their screens will also have thinner bezels, thanks to a new display technology, shrinking the size of the black border by about a third. (Earlier leaks show what that might look like.) And as previously reported, expect the mute switch to be swapped out for a customizable button and the Lightning port to be replaced by USB-C.\n",
      "\n",
      "\n",
      "The iPhone 15 Pro’s rumored action button sounds pretty useful:\n",
      "The upcoming iPhone 15 Pro and Pro Max are expected to come with an action button — similar to the one on the Apple Watch Ultra — that replaces the device’s ring/silent switch. But now, we have a better idea of what it might be able to do.\n",
      "As spotted by MacRumors, code in the iOS 17 beta 4 suggests you can program nine different functions into the action button, potentially allowing you to quickly access the Camera app, turn on the flashlight, launch the Translate app, and more.\n",
      "\n",
      "\n"
     ]
    }
   ],
   "source": [
    "response = pinecone_index.query(vector=query_emb, namespace=\"summaries\", top_k=1, include_metadata=True)\n",
    "\n",
    "for match in response['matches']:\n",
    "  print(\"Source:\", match['metadata']['source'])\n",
    "  print(\"Source ID:\", int(match['metadata']['source_id']))\n",
    "  print()\n",
    "\n",
    "context = \"\"\n",
    "for match in response['matches']:\n",
    "  context += large_chunks[int(match['metadata']['source_id'])].page_content + \"\\n\\n\"\n",
    "\n",
    "print(\"Original large context:\")\n",
    "print(context)"
   ]
  },
  {
   "cell_type": "code",
   "execution_count": 161,
   "metadata": {},
   "outputs": [
    {
     "name": "stdout",
     "output_type": "stream",
     "text": [
      "Prompt:\n",
      "Use the following pieces of context to answer the question at the end. If you don't know the answer, just say that you don't know, don't try to make up an answer.\n",
      "\n",
      "iPhone 15 Pro might get a titanium frame, thinner bezels, and a price hike:\n",
      "Some big changes are expected to come to this year’s iPhone 15 Pro lineup — but they might come alongside a price hike, too. In Bloomberg this morning, reporter Mark Gurman confirmed a handful of details that have been floating around all year about what to expect when the next iPhone lineup is announced in just over a month.\n",
      "The new Pro models will both come with titanium frames, instead of stainless steel, making them stronger and lighter, according to Gurman. Their screens will also have thinner bezels, thanks to a new display technology, shrinking the size of the black border by about a third. (Earlier leaks show what that might look like.) And as previously reported, expect the mute switch to be swapped out for a customizable button and the Lightning port to be replaced by USB-C.\n",
      "\n",
      "\n",
      "The iPhone 15 Pro’s rumored action button sounds pretty useful:\n",
      "The upcoming iPhone 15 Pro and Pro Max are expected to come with an action button — similar to the one on the Apple Watch Ultra — that replaces the device’s ring/silent switch. But now, we have a better idea of what it might be able to do.\n",
      "As spotted by MacRumors, code in the iOS 17 beta 4 suggests you can program nine different functions into the action button, potentially allowing you to quickly access the Camera app, turn on the flashlight, launch the Translate app, and more.\n",
      "\n",
      "\n",
      "\n",
      "Question: When the iphone 15 is released, is it supposed to still have a mute button?\n",
      "Helpful Answer:\n",
      "\n",
      "\n",
      "Response:\n",
      "No, the iPhone 15 Pro is rumored to have the mute switch replaced with a customizable action button.\n"
     ]
    }
   ],
   "source": [
    "qa_prompt =  qa_template.format(context=context, question=query_str)\n",
    "print(\"Prompt:\")\n",
    "print(qa_prompt)\n",
    "\n",
    "response = openai.ChatCompletion.create(\n",
    "  model=\"gpt-3.5-turbo\",\n",
    "  messages=[{\"role\": \"user\", \"content\": qa_prompt}]\n",
    ")\n",
    "\n",
    "print(\"\\n\\nResponse:\")\n",
    "print(response['choices'][0]['message']['content'])"
   ]
  },
  {
   "cell_type": "markdown",
   "metadata": {},
   "source": [
    "Much better!"
   ]
  },
  {
   "cell_type": "markdown",
   "metadata": {},
   "source": [
    "So not only are we getting better output, we're requiring significantly less vector storage to do it."
   ]
  },
  {
   "cell_type": "markdown",
   "metadata": {},
   "source": [
    "### Cleaning up"
   ]
  },
  {
   "cell_type": "markdown",
   "metadata": {},
   "source": [
    "Selectively run these as needed to clean up and start a section over, or to remove the index completely when you're done."
   ]
  },
  {
   "cell_type": "code",
   "execution_count": 145,
   "metadata": {},
   "outputs": [
    {
     "data": {
      "text/plain": [
       "{}"
      ]
     },
     "execution_count": 145,
     "metadata": {},
     "output_type": "execute_result"
    }
   ],
   "source": [
    "pinecone_index.delete(delete_all=True, namespace=\"direct\")"
   ]
  },
  {
   "cell_type": "code",
   "execution_count": 146,
   "metadata": {},
   "outputs": [
    {
     "data": {
      "text/plain": [
       "{}"
      ]
     },
     "execution_count": 146,
     "metadata": {},
     "output_type": "execute_result"
    }
   ],
   "source": [
    "pinecone_index.delete(delete_all=True, namespace=\"summaries\")"
   ]
  },
  {
   "cell_type": "code",
   "execution_count": 7,
   "metadata": {},
   "outputs": [],
   "source": [
    "pinecone.delete_index(\"iphone-index\")"
   ]
  },
  {
   "cell_type": "code",
   "execution_count": null,
   "metadata": {},
   "outputs": [],
   "source": []
  }
 ],
 "metadata": {
  "kernelspec": {
   "display_name": "Python 3",
   "language": "python",
   "name": "python3"
  },
  "language_info": {
   "codemirror_mode": {
    "name": "ipython",
    "version": 3
   },
   "file_extension": ".py",
   "mimetype": "text/x-python",
   "name": "python",
   "nbconvert_exporter": "python",
   "pygments_lexer": "ipython3",
   "version": "3.10.12"
  },
  "orig_nbformat": 4
 },
 "nbformat": 4,
 "nbformat_minor": 2
}
